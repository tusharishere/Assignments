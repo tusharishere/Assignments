{
 "cells": [
  {
   "cell_type": "code",
   "execution_count": null,
   "id": "83c78406-345b-4d24-926f-93752074d7b1",
   "metadata": {},
   "outputs": [],
   "source": [
    "1. What is the role of try and exception block?\n",
    "\n",
    "ANSWER\n",
    "The try and except block in Python is used for error handling and exception handling. \n",
    "It allows you to write code that can handle potential errors or exceptions that may \n",
    "occur during the execution of your program."
   ]
  },
  {
   "cell_type": "code",
   "execution_count": null,
   "id": "737647f5-5901-4681-ae54-f1895e24c079",
   "metadata": {},
   "outputs": [],
   "source": [
    "2. What is the syntax for a basic try-except block?\n",
    "\n",
    "ANSWER"
   ]
  },
  {
   "cell_type": "code",
   "execution_count": null,
   "id": "3e609ee6-0462-4ceb-8c5a-946e5e14b7bc",
   "metadata": {},
   "outputs": [],
   "source": [
    "try:\n",
    "    # Code that may raise an exception\n",
    "    ...\n",
    "except ExceptionType:\n",
    "    # Code to handle the exception\n",
    "    ...\n"
   ]
  },
  {
   "cell_type": "code",
   "execution_count": null,
   "id": "f094101b-f1be-4021-90eb-e7cb4b42d99f",
   "metadata": {},
   "outputs": [],
   "source": [
    "3. What happens if an exception occurs inside a try block and there is no matching\n",
    "except block?\n",
    "\n",
    "ANSWER\n",
    "If an exception occurs inside a try block and there is no matching except block to \n",
    "handle that specific exception, the exception will propagate up the call stack until\n",
    "it is caught by an appropriate except block or until it reaches the top-level of the program"
   ]
  },
  {
   "cell_type": "code",
   "execution_count": null,
   "id": "052bac8b-bd5c-47fc-8c28-a93f57dab8a0",
   "metadata": {},
   "outputs": [],
   "source": [
    "try:\n",
    "    # Code that may raise an exception\n",
    "    ...\n",
    "except ValueError:\n",
    "    # Code to handle ValueError\n",
    "    ..."
   ]
  },
  {
   "cell_type": "code",
   "execution_count": null,
   "id": "a5d5ac68-9f64-4186-9b70-fdb0453c60f8",
   "metadata": {},
   "outputs": [],
   "source": [
    "4. What is the difference between using a bare except block and specifying a specific\n",
    "   exception type?\n",
    "    \n",
    "ANSWER\n",
    "The difference between using a bare except block and specifying a specific exception \n",
    "type lies in how exceptions are handled in each case.\n",
    "\n",
    "    Bare except block:\n",
    "    When you use a bare except block, without specifying any exception type, \n",
    "    it will catch and handle any type of exception that occurs within the corresponding try block. \n",
    "    This includes built-in exceptions as well as custom exceptions. \n",
    "    The code inside the bare except block will be executed regardless of the type of exception.\n",
    "    \n",
    "    try:\n",
    "    # Code that may raise an exception\n",
    "    ...\n",
    "    except:\n",
    "    # Code to handle any type of exception\n",
    "    ...\n",
    "\n",
    "    Specific exception type:\n",
    "    When you specify a specific exception type in an except block, it will only catch and \n",
    "    handle exceptions of that particular type or its subclasses. \n",
    "    \n",
    "    try:\n",
    "    # Code that may raise a ValueError\n",
    "    ...\n",
    "    except ValueError:\n",
    "    # Code to handle only ValueError\n",
    "    ...\n"
   ]
  },
  {
   "cell_type": "code",
   "execution_count": null,
   "id": "c908e014-6c1e-460e-beb9-d8722695e2cb",
   "metadata": {},
   "outputs": [],
   "source": [
    "5. Can you have nested try-except blocks in Python? If yes, then give an example.\n",
    "\n",
    "ANSWER\n",
    "Yes, it is possible to have nested try-except blocks in Python. \n",
    "This allows you to handle exceptions at different levels of code execution, \n",
    "providing more fine-grained error handling"
   ]
  },
  {
   "cell_type": "code",
   "execution_count": 3,
   "id": "295e03c4-016c-46ec-806c-daaa6c154034",
   "metadata": {},
   "outputs": [
    {
     "name": "stdin",
     "output_type": "stream",
     "text": [
      "Enter a number:  2\n",
      "Enter another number:  2.2\n"
     ]
    },
    {
     "name": "stdout",
     "output_type": "stream",
     "text": [
      "Invalid input for inner_num. Please enter a valid integer.\n"
     ]
    }
   ],
   "source": [
    "try:\n",
    "    # Outer try block\n",
    "    outer_num = int(input(\"Enter a number: \"))\n",
    "\n",
    "    try:\n",
    "        # Inner try block\n",
    "        inner_num = int(input(\"Enter another number: \"))\n",
    "\n",
    "        result = outer_num / inner_num\n",
    "        print(\"Result:\", result)\n",
    "\n",
    "    except ValueError:\n",
    "        print(\"Invalid input for inner_num. Please enter a valid integer.\")\n",
    "\n",
    "    except ZeroDivisionError:\n",
    "        print(\"Cannot divide by zero.\")\n",
    "\n",
    "except ValueError:\n",
    "    print(\"Invalid input for outer_num. Please enter a valid integer.\")\n"
   ]
  },
  {
   "cell_type": "code",
   "execution_count": null,
   "id": "e95b6bee-a4f3-4816-a61d-a283f7f9d8ad",
   "metadata": {},
   "outputs": [],
   "source": [
    "6. Can we use multiple exception blocks, if yes then give an example.\n",
    "\n",
    "ANSWER"
   ]
  },
  {
   "cell_type": "code",
   "execution_count": null,
   "id": "c60e24fe-a582-4bda-8253-e087773ddca3",
   "metadata": {},
   "outputs": [],
   "source": [
    "Yes, it is possible to use multiple except blocks to handle different types of exceptions in Python. \n",
    "This allows you to provide specific error handling for each type of exception that may occur."
   ]
  },
  {
   "cell_type": "code",
   "execution_count": null,
   "id": "bbef1d31-83c9-4d24-b282-8e673bf2e411",
   "metadata": {},
   "outputs": [
    {
     "name": "stdin",
     "output_type": "stream",
     "text": [
      "Enter a number:  2\n"
     ]
    },
    {
     "name": "stdout",
     "output_type": "stream",
     "text": [
      "Result: 50.0\n"
     ]
    }
   ],
   "source": [
    "try:\n",
    "    # Code that may raise an exception\n",
    "    num = int(input(\"Enter a number: \"))\n",
    "\n",
    "    result = 100 / num\n",
    "    print(\"Result:\", result)\n",
    "\n",
    "except ValueError:\n",
    "    print(\"Invalid input. Please enter a valid integer.\")\n",
    "\n",
    "except ZeroDivisionError:\n",
    "    print(\"Cannot divide by zero.\")\n",
    "\n",
    "except Exception as e:\n",
    "    print(\"An error occurred:\", str(e))"
   ]
  },
  {
   "cell_type": "code",
   "execution_count": null,
   "id": "4e8ae366-bb48-4872-b259-dab5f07548fe",
   "metadata": {},
   "outputs": [],
   "source": [
    "7. Write the reason due to which following errors are raised:\n",
    "a. EOFError\n",
    "b. FloatingPointError\n",
    "c. IndexError\n",
    "d. MemoryError\n",
    "e. OverflowError\n",
    "f. TabError\n",
    "g. ValueError"
   ]
  },
  {
   "cell_type": "code",
   "execution_count": null,
   "id": "946a57fd-17ae-4c82-b165-990d25c5d75f",
   "metadata": {},
   "outputs": [],
   "source": [
    "ANSWER\n",
    "a.  EOFError: This error is raised when the `input()` function or the `readline()` method of a file \n",
    "    object reaches the end of the file or input stream before obtaining the expected input. \n",
    "    It typically occurs when trying to read user input from the console or when reading from a file.\n",
    "\n",
    "b.  FloatingPointError: This error is raised when an arithmetic operation involving floating-point \n",
    "    numbers fails to produce a valid result. It usually occurs when attempting operations like division \n",
    "    by zero or computing an invalid mathematical value, such as taking the square root of a negative number.\n",
    "\n",
    "c.  IndexError: This error is raised when trying to access an index of a sequence \n",
    "    (such as a list, tuple, or string) that is outside the range of valid indices. \n",
    "    It occurs when attempting to access an element at an index that is less than \n",
    "    0 or greater than or equal to the length of the sequence.\n",
    "\n",
    "d.  MemoryError: This error is raised when the Python interpreter runs out of memory to allocate for\n",
    "    new objects or data structures. It typically occurs when the program tries to allocate more memory \n",
    "    than the system or the Python process can provide.\n",
    "\n",
    "e.  OverflowError: This error is raised when an arithmetic operation results in a value that \n",
    "    is too large to be represented within the available numeric range. It typically occurs when \n",
    "    performing calculations that exceed the maximum or minimum value that can be stored in a numeric \n",
    "    data type.\n",
    "\n",
    "f.  TabError: This error is raised when there are inconsistencies or issues with the indentation \n",
    "    of code that uses tabs for indentation. It occurs when mixing tabs and spaces in an indented \n",
    "    block or when the indentation width is not consistent throughout the code.\n",
    "\n",
    "g.  ValueError: This error is raised when a function or operation receives an argument of the correct\n",
    "    type but an inappropriate value. It occurs when a function expects a certain value or range of values, \n",
    "    and the provided argument does not meet the required criteria.\n"
   ]
  },
  {
   "cell_type": "code",
   "execution_count": null,
   "id": "6a8f70dd-1c75-40d7-bbc6-8730be0e79ad",
   "metadata": {},
   "outputs": [],
   "source": [
    "8. Write code for the following given scenario and add try-exception block to it.\n",
    "a. Program to divide two numbers\n",
    "b. Program to convert a string to an integer\n",
    "c. Program to access an element in a list\n",
    "d. Program to handle a specific exception\n",
    "e. Program to handle any exception\n",
    "\n",
    "ANSWER"
   ]
  },
  {
   "cell_type": "code",
   "execution_count": 10,
   "id": "34f3d35b-33dc-4c43-82da-83d357b22abb",
   "metadata": {},
   "outputs": [
    {
     "name": "stdin",
     "output_type": "stream",
     "text": [
      "Enter the first number:  2\n",
      "Enter the second number:  0\n"
     ]
    },
    {
     "name": "stdout",
     "output_type": "stream",
     "text": [
      "Error: Cannot divide by zero.\n"
     ]
    }
   ],
   "source": [
    "#a.Program to divide two numbers:  \n",
    "try:\n",
    "    num1 = float(input(\"Enter the first number: \"))\n",
    "    num2 = float(input(\"Enter the second number: \"))\n",
    "    result = num1 / num2\n",
    "    print(\"Result:\", result)\n",
    "except ZeroDivisionError:\n",
    "    print(\"Error: Cannot divide by zero.\")\n",
    "except Exception as e:\n",
    "    print(\"An error occurred:\", str(e))\n"
   ]
  },
  {
   "cell_type": "code",
   "execution_count": 9,
   "id": "f68fdbd5-42e1-4914-a8b1-b5d4d1e88a32",
   "metadata": {},
   "outputs": [
    {
     "name": "stdin",
     "output_type": "stream",
     "text": [
      "Enter a number:  kj\n"
     ]
    },
    {
     "name": "stdout",
     "output_type": "stream",
     "text": [
      "Error: Invalid input. Please enter a valid integer.\n"
     ]
    }
   ],
   "source": [
    "#b. Program to convert a string to an integer:\n",
    "try:\n",
    "    num_str = input(\"Enter a number: \")\n",
    "    num = int(num_str)\n",
    "    print(\"Number:\", num)\n",
    "except ValueError:\n",
    "    print(\"Error: Invalid input. Please enter a valid integer.\")\n",
    "except Exception as e:\n",
    "    print(\"An error occurred:\", str(e))"
   ]
  },
  {
   "cell_type": "code",
   "execution_count": 11,
   "id": "207f9594-7eef-4e74-a333-986bcd1b6796",
   "metadata": {},
   "outputs": [
    {
     "name": "stdin",
     "output_type": "stream",
     "text": [
      "Enter the index:  6\n"
     ]
    },
    {
     "name": "stdout",
     "output_type": "stream",
     "text": [
      "Error: Index out of range.\n"
     ]
    }
   ],
   "source": [
    "#c. Program to access an element in a list:\n",
    "try:\n",
    "    my_list = [1, 2, 3, 4, 5]\n",
    "    index = int(input(\"Enter the index: \"))\n",
    "    value = my_list[index]\n",
    "    print(\"Value:\", value)\n",
    "except IndexError:\n",
    "    print(\"Error: Index out of range.\")\n",
    "except Exception as e:\n",
    "    print(\"An error occurred:\", str(e))"
   ]
  },
  {
   "cell_type": "code",
   "execution_count": 12,
   "id": "46eea222-00b0-4fc4-8c8e-28b770701aa3",
   "metadata": {},
   "outputs": [
    {
     "name": "stdin",
     "output_type": "stream",
     "text": [
      "Enter your age:  22.2\n"
     ]
    },
    {
     "name": "stdout",
     "output_type": "stream",
     "text": [
      "Error: invalid literal for int() with base 10: '22.2'\n"
     ]
    }
   ],
   "source": [
    "#d. Program to handle a specific exception:\n",
    "try:\n",
    "    age = int(input(\"Enter your age: \"))\n",
    "    if age < 0:\n",
    "        raise ValueError(\"Invalid age. Age cannot be negative.\")\n",
    "    print(\"Age:\", age)\n",
    "except ValueError as ve:\n",
    "    print(\"Error:\", str(ve))\n",
    "except Exception as e:\n",
    "    print(\"An error occurred:\", str(e))"
   ]
  },
  {
   "cell_type": "code",
   "execution_count": null,
   "id": "1923651a-8ab2-4d3d-bbb5-00eef023819e",
   "metadata": {},
   "outputs": [],
   "source": [
    "#e. Program to handle any exception:\n",
    "try:\n",
    "    # Code that may raise an exception\n",
    "    # ...\n",
    "except Exception as e:\n",
    "    print(\"An error occurred:\", str(e))\n"
   ]
  }
 ],
 "metadata": {
  "kernelspec": {
   "display_name": "Python 3 (ipykernel)",
   "language": "python",
   "name": "python3"
  },
  "language_info": {
   "codemirror_mode": {
    "name": "ipython",
    "version": 3
   },
   "file_extension": ".py",
   "mimetype": "text/x-python",
   "name": "python",
   "nbconvert_exporter": "python",
   "pygments_lexer": "ipython3",
   "version": "3.10.6"
  }
 },
 "nbformat": 4,
 "nbformat_minor": 5
}

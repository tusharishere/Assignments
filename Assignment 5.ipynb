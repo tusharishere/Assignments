{
 "cells": [
  {
   "cell_type": "code",
   "execution_count": null,
   "id": "e08f3e23-e6db-4e66-a0d4-62b4e5186a40",
   "metadata": {},
   "outputs": [],
   "source": [
    "1. What does an empty dictionarys code look like?\n",
    "\n",
    "    ANSWER\n",
    "    my_dict = {}"
   ]
  },
  {
   "cell_type": "code",
   "execution_count": null,
   "id": "1e01dd9a-3b7e-41ca-bc79-d5fa86069bb8",
   "metadata": {},
   "outputs": [],
   "source": [
    "2. What is the value of a dictionary value with the key and the value 42?\n",
    "\n",
    "    ANSWER\n",
    "    my_dict = {'foo': 42}"
   ]
  },
  {
   "cell_type": "code",
   "execution_count": null,
   "id": "785702dd-5d30-492c-bc03-fe5ca161321f",
   "metadata": {},
   "outputs": [],
   "source": [
    "3. What is the most significant distinction between a dictionary and a list?\n",
    "    \n",
    "    ANSWER\n",
    "    The key distinction between a dictionary and a list is that \n",
    "    a dictionary uses key-value pairs for data storage and retrieval,\n",
    "    while a list uses ordered indices for element access and modification."
   ]
  },
  {
   "cell_type": "code",
   "execution_count": null,
   "id": "f79fa0b8-605b-4797-a827-2eca5913028c",
   "metadata": {},
   "outputs": [],
   "source": [
    "4. What happens if you try to access spam['foo'] if spam is {'bar': 100}?\n",
    "\n",
    "    ANSWER\n",
    "    If you try to access spam['foo'] and spam is { 'bar': 100 }, a KeyError will be raised.\n",
    "    spam = { 'bar': 100 }\n",
    "    value = spam['foo']  # Raises KeyError: 'foo'"
   ]
  },
  {
   "cell_type": "code",
   "execution_count": null,
   "id": "fd78079f-73cc-459c-8702-44d63bc47813",
   "metadata": {},
   "outputs": [],
   "source": [
    "5. If a dictionary is stored in spam, what is the difference between the expressions 'cat' in spam and\n",
    "   'cat' in spam.keys()?\n",
    "    \n",
    "    ANSWER\n",
    "    In both cases, 'cat' is a key present in the dictionary spam, \n",
    "    so the expressions 'cat' in spam and 'cat' in spam.keys() will return True.\n",
    "    #example\n",
    "    spam = {'cat': 42, 'dog': 10, 'bird': 7}\n",
    "\n",
    "    print('cat' in spam)           # Output: True\n",
    "    print('cat' in spam.keys())    # Output: True\n",
    "\n",
    "    print('lion' in spam)          # Output: False\n",
    "    print('lion' in spam.keys())   # Output: False"
   ]
  },
  {
   "cell_type": "code",
   "execution_count": null,
   "id": "4ac033fd-0810-4dc5-a20e-f26c33da9f53",
   "metadata": {},
   "outputs": [],
   "source": [
    "7. What is a shortcut for the following code?\n",
    "   if 'color' not in spam:\n",
    "   spam['color'] = 'black'\n",
    "\n",
    "   ANSWER\n",
    "   spam.setdefault('color', 'black')"
   ]
  },
  {
   "cell_type": "code",
   "execution_count": null,
   "id": "26c429fd-9109-47ca-ae7a-8afd04cf2b1a",
   "metadata": {},
   "outputs": [],
   "source": [
    "8. How do you &quot;pretty print&quot; dictionary values using which module and function?\n",
    "    \n",
    "    ANSWER\n",
    "    import pprint\n",
    "\n",
    "    my_dict = {'name': 'Tushar', 'age': 23, 'city': 'Raipur'}\n",
    "\n",
    "    pprint.pprint(my_dict)\n"
   ]
  }
 ],
 "metadata": {
  "kernelspec": {
   "display_name": "Python 3 (ipykernel)",
   "language": "python",
   "name": "python3"
  },
  "language_info": {
   "codemirror_mode": {
    "name": "ipython",
    "version": 3
   },
   "file_extension": ".py",
   "mimetype": "text/x-python",
   "name": "python",
   "nbconvert_exporter": "python",
   "pygments_lexer": "ipython3",
   "version": "3.10.6"
  }
 },
 "nbformat": 4,
 "nbformat_minor": 5
}

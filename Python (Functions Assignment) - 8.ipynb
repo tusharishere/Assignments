{
 "cells": [
  {
   "cell_type": "code",
   "execution_count": null,
   "id": "33b86f0f-ccaa-4d52-a9c7-e1ef0ac71bd5",
   "metadata": {},
   "outputs": [],
   "source": [
    "1. In Python, what is the difference between a built-in function and a user-defined function? Provide an\n",
    "example of each.\n",
    "\n",
    "ANSWER\n",
    "In Python, the difference between a built-in function and a user-defined function is as follows:\n",
    "    \n",
    "1)Built-in function: A built-in function is a function that is provided by Python as part of its \n",
    "  standard library. These functions are readily available for use without requiring any additional \n",
    "  code or module import. Built-in functions perform various tasks and operations, such as mathematical \n",
    "  calculations.\n",
    "    \n",
    "  Examples of built-in functions include print(), len(), type(), str(), range(), etc."
   ]
  },
  {
   "cell_type": "code",
   "execution_count": 1,
   "id": "59de6f9a-a2c0-4c47-a8ab-f9c99713ff03",
   "metadata": {},
   "outputs": [
    {
     "name": "stdout",
     "output_type": "stream",
     "text": [
      "Tushar Sinha\n"
     ]
    }
   ],
   "source": [
    "  print(\"Tushar Sinha\") #print is built-in finction"
   ]
  },
  {
   "cell_type": "code",
   "execution_count": null,
   "id": "c35aa09d-e76d-4304-9e26-f23d51efa817",
   "metadata": {},
   "outputs": [],
   "source": [
    "2)User-defined function: A user-defined function is a function that is created by the user \n",
    "  to perform a specific task or set of operations. These functions are defined using the def keyword, \n",
    "  followed by a function name and a block of code that defines the function's behavior. \n",
    "  \n",
    "  Examples of user-defined functions are"
   ]
  },
  {
   "cell_type": "code",
   "execution_count": 4,
   "id": "06e928ed-2e98-46f3-aaaf-37a0612a0304",
   "metadata": {},
   "outputs": [
    {
     "name": "stdout",
     "output_type": "stream",
     "text": [
      "Hello Tushar\n"
     ]
    }
   ],
   "source": [
    "  def MyFunction(name):\n",
    "        print(\"Hello\",name)\n",
    "        \n",
    "  MyFunction(\"Tushar\")"
   ]
  },
  {
   "cell_type": "code",
   "execution_count": null,
   "id": "e6bf0904-e697-4011-8da1-482fb6b9664d",
   "metadata": {},
   "outputs": [],
   "source": [
    "2. How can you pass arguments to a function in Python? Explain the difference between positional\n",
    "   arguments and keyword arguments.\n",
    "\n",
    "  ANSWER\n",
    "   In Python, we can pass arguments to a function in the following ways:\n",
    "   1)Positional Arguments: Positional arguments are passed to a function \n",
    "     based on their position or order.\n",
    "        \n",
    "     Example"
   ]
  },
  {
   "cell_type": "code",
   "execution_count": 5,
   "id": "21f43d5a-91c9-453e-bfb9-0082d448d879",
   "metadata": {},
   "outputs": [
    {
     "name": "stdout",
     "output_type": "stream",
     "text": [
      "Sum: 8\n"
     ]
    }
   ],
   "source": [
    "def add_numbers(a, b):\n",
    "    sum = a + b\n",
    "    print(\"Sum:\", sum)\n",
    "\n",
    "# Passing positional arguments\n",
    "add_numbers(5, 3)  "
   ]
  },
  {
   "cell_type": "code",
   "execution_count": null,
   "id": "92563dc0-8ac2-4df4-914a-dc8b4f5e810f",
   "metadata": {},
   "outputs": [],
   "source": [
    "   2)Keyword Arguments: Keyword arguments are passed to a function using the parameter names explicitly. \n",
    "     Example"
   ]
  },
  {
   "cell_type": "code",
   "execution_count": 6,
   "id": "00d2dde2-eb20-464e-af89-83fedc93e7b1",
   "metadata": {},
   "outputs": [
    {
     "name": "stdout",
     "output_type": "stream",
     "text": [
      "Name: Alice\n",
      "Age: 25\n"
     ]
    }
   ],
   "source": [
    "def greet_person(name, age):\n",
    "    print(\"Name:\", name)\n",
    "    print(\"Age:\", age)\n",
    "\n",
    "# Passing keyword arguments\n",
    "greet_person(name=\"Alice\", age=25)  "
   ]
  },
  {
   "cell_type": "code",
   "execution_count": null,
   "id": "09c161f8-284a-4ff0-a411-eb05999e95e1",
   "metadata": {},
   "outputs": [],
   "source": [
    "3. What is the purpose of the return statement in a function? Can a function have multiple return\n",
    "   statements? Explain with an example.\n",
    "\n",
    "   ANSWER\n",
    "   The return statement in a function is used to specify the value that the function should \n",
    "   return when it is called. It allows the function to provide an output or result that can \n",
    "   be used by the code that called the function. The return statement also terminates the execution\n",
    "   of the function, so any code after the return statement will not be executed. \n",
    "\n",
    "   A function can have multiple return statements. But only one return statement \n",
    "   is executed in a function call. Once a return statement is encountered, the function \n",
    "   immediately exits and returns the specified value.\n",
    "\n",
    "   Example"
   ]
  },
  {
   "cell_type": "code",
   "execution_count": 7,
   "id": "dd4b89ea-a2b3-4ee8-b9e2-480c934b435d",
   "metadata": {},
   "outputs": [
    {
     "name": "stdout",
     "output_type": "stream",
     "text": [
      "5.0\n",
      "Error: Division by zero is not allowed.\n"
     ]
    }
   ],
   "source": [
    "   def divide(a, b):\n",
    "    if b == 0:\n",
    "        return \"Error: Division by zero is not allowed.\"\n",
    "    else:\n",
    "        return a / b\n",
    "\n",
    "result1 = divide(10, 2)\n",
    "print(result1)  \n",
    "\n",
    "result2 = divide(8, 0)\n",
    "print(result2)  \n"
   ]
  },
  {
   "cell_type": "code",
   "execution_count": null,
   "id": "bf4825c7-caf1-49a2-8c3e-ea6c556451b7",
   "metadata": {},
   "outputs": [],
   "source": [
    "4. What are lambda functions in Python? How are they different from regular functions? Provide an\n",
    "   example where a lambda function can be useful.\n",
    "    \n",
    "   ANSWER\n",
    "   Lambda functions, also known as anonymous functions, are small, one-line functions \n",
    "   in Python that don't have a name. They are defined using the lambda keyword followed \n",
    "   by the function's parameters and a single expression.\n",
    "    \n",
    "   The key differences between lambda functions and regular functions are:\n",
    "\n",
    "   Syntax: Lambda functions are defined in a small syntax using the lambda keyword,\n",
    "           while regular functions are defined using the def keyword.\n",
    " \n",
    "   Name:   Lambda functions are anonymous and don't have a name. They are created \n",
    "           and used inline without assigning them to a variable, while regular functions \n",
    "           have a name and can be called multiple times.\n",
    "\n",
    "           Example"
   ]
  },
  {
   "cell_type": "code",
   "execution_count": 2,
   "id": "2e0f9db8-491b-411e-ac4a-09ff786cdb2f",
   "metadata": {},
   "outputs": [
    {
     "name": "stdout",
     "output_type": "stream",
     "text": [
      "6\n"
     ]
    }
   ],
   "source": [
    "# Using a lambda function to multiply two numbers\n",
    "multiply = lambda x, y: x * y\n",
    "print(multiply(2,3))  "
   ]
  },
  {
   "cell_type": "code",
   "execution_count": null,
   "id": "9a90b1a2-6ec7-4621-b1e5-14c619ab5b00",
   "metadata": {},
   "outputs": [],
   "source": [
    "5. How does the concept of \"scope\" apply to functions in Python? Explain the difference between local\n",
    "   scope and global scope.\n",
    "    \n",
    "   ANSWER\n",
    "   The concept of \"scope\" in Python determines the visibility and accessibility of variables \n",
    "   within different parts of the code.There are two types of scopes: local scope and global scope.\n",
    "\n",
    "   1)Local Scope: Variables defined within a function have local scope. \n",
    "   They are only accessible within the function in which they are defined. \n",
    "   Local variables exist only during the execution of the function and are \n",
    "   destroyed once the function completes. They cannot be accessed outside of the function.\n",
    "\n",
    "   2)Global Scope: Variables defined outside of any function have global scope. \n",
    "    They are accessible from anywhere in the code, including within functions. \n",
    "    Global variables remain in memory throughout the execution of the program and \n",
    "    can be accessed and modified by any part of the code.\n",
    "    \n",
    "    The differences between local scope and global scope are \n",
    "    \n",
    "    1)Local Scope: Variables are defined within a function and are only accessible within that function. \n",
    "      They are destroyed once the function completes its execution.\n",
    "    2)Global Scope: Variables are defined outside of any function and are accessible from anywhere in \n",
    "      the code, including within functions. They remain in memory throughout the program's execution.\n",
    "      "
   ]
  },
  {
   "cell_type": "code",
   "execution_count": null,
   "id": "94749a31-5c7b-4d04-ac77-a2871a3297e1",
   "metadata": {},
   "outputs": [],
   "source": [
    "6. How can you use the \"return\" statement in a Python function to return multiple values?\n",
    "\n",
    "ANSWER\n",
    "\n",
    "  In Python, We can use the return statement in a function to return multiple\n",
    "  values by separating them with commas.\n",
    "  Example-"
   ]
  },
  {
   "cell_type": "code",
   "execution_count": 3,
   "id": "e9cd35e0-f8f8-4bd1-a52d-878154676ecf",
   "metadata": {},
   "outputs": [
    {
     "name": "stdout",
     "output_type": "stream",
     "text": [
      "Tushar\n",
      "25\n",
      "Raipur\n"
     ]
    }
   ],
   "source": [
    "def person_details():\n",
    "    name = \"Tushar\"\n",
    "    age = 25\n",
    "    city = \"Raipur\"\n",
    "    return name, age, city\n",
    "\n",
    "# Calling the function and unpacking the returned values\n",
    "person_name, person_age, person_city = person_details()\n",
    "\n",
    "print(person_name)  \n",
    "print(person_age)   \n",
    "print(person_city)  \n"
   ]
  },
  {
   "cell_type": "code",
   "execution_count": null,
   "id": "10f0447e-5a79-470c-8dc0-bda689b73fe5",
   "metadata": {},
   "outputs": [],
   "source": [
    "7. What is the difference between the \"pass by value\" and \"pass by reference\" concepts when it\n",
    "   comes to function arguments in Python?\n",
    "    \n",
    "   ANSWER\n",
    "   1)Pass by Value: When passing arguments to a function in Python, it behaves as if it is \n",
    "   \"passing by value\" for immutable objects such as numbers, strings, and tuples. \n",
    "   It means that a copy of the value is made, and any modifications made to the parameter \n",
    "   inside the function do not affect the original object.\n",
    "  \n",
    "   2)Pass by Reference: For mutable objects such as lists, dictionaries, and user-defined objects, \n",
    "     the behavior is closer to \"pass by reference\" in the sense that a reference to the original \n",
    "     object is passed to the function. This means that modifications made to the parameter inside \n",
    "     unction will affect the original object.\n"
   ]
  },
  {
   "cell_type": "code",
   "execution_count": null,
   "id": "3965d9f0-aafd-443c-a5fa-e2e21b4908d7",
   "metadata": {},
   "outputs": [],
   "source": [
    "8. Create a function that can intake integer or decimal value and do following operations:\n",
    "a. Logarithmic function (log x)\n",
    "b. Exponential function (exp(x))\n",
    "c. Power function with base 2 (2x)\n",
    "d. Square root\n",
    "\n",
    "ANSWER"
   ]
  },
  {
   "cell_type": "code",
   "execution_count": 7,
   "id": "694f607a-657a-4ccd-a5ef-a6ce3c2deba0",
   "metadata": {},
   "outputs": [
    {
     "name": "stdout",
     "output_type": "stream",
     "text": [
      "{'logarithm': 4.255612709818223, 'exponential': 4.1472572418860906e+30, 'power': 1.6696086816425962e+21, 'square_root': 8.396427811873332}\n"
     ]
    }
   ],
   "source": [
    "import math\n",
    "\n",
    "def operations(x):\n",
    "    # Logarithmic function (log x)\n",
    "    logarithm = math.log(x)\n",
    "    \n",
    "    # Exponential function (exp(x))\n",
    "    exponential = math.exp(x)\n",
    "    \n",
    "    # Power function with base 2 (2^x)\n",
    "    power = math.pow(2, x)\n",
    "    \n",
    "    # Square root\n",
    "    square_root = math.sqrt(x)\n",
    "    \n",
    "    # Return the results as a dictionary\n",
    "    return {\n",
    "        \"logarithm\": logarithm,\n",
    "        \"exponential\": exponential,\n",
    "        \"power\": power,\n",
    "        \"square_root\": square_root\n",
    "    }\n",
    "\n",
    "result1 = operations(70.5)\n",
    "print(result1)\n"
   ]
  },
  {
   "cell_type": "code",
   "execution_count": null,
   "id": "f167334c-5848-4ba2-9000-5521d1f09bc0",
   "metadata": {},
   "outputs": [],
   "source": [
    "9. Create a function that takes a full name as an argument and returns first name and last name.\n",
    "\n",
    "ANSWER"
   ]
  },
  {
   "cell_type": "code",
   "execution_count": 8,
   "id": "8f1e6b77-04b2-4075-bb0b-a9e0faf742a6",
   "metadata": {},
   "outputs": [
    {
     "name": "stdout",
     "output_type": "stream",
     "text": [
      "First Name: Tushar\n",
      "Last Name: Sinha\n"
     ]
    }
   ],
   "source": [
    "def full_name(full_name):\n",
    "    names = full_name.split()  # Split the full name by whitespace\n",
    "    first_name = names[0]  # Retrieve the first element as the first name\n",
    "    last_name = names[-1]  # Retrieve the last element as the last name\n",
    "    \n",
    "    return first_name, last_name\n",
    "\n",
    "# Test the function\n",
    "name = \"Tushar Sinha\"\n",
    "first, last = full_name(name)\n",
    "print(\"First Name:\", first)\n",
    "print(\"Last Name:\", last)\n"
   ]
  },
  {
   "cell_type": "code",
   "execution_count": null,
   "id": "2889589a-4cb5-4cef-a1f2-4bb0a112ddf6",
   "metadata": {},
   "outputs": [],
   "source": []
  }
 ],
 "metadata": {
  "kernelspec": {
   "display_name": "Python 3 (ipykernel)",
   "language": "python",
   "name": "python3"
  },
  "language_info": {
   "codemirror_mode": {
    "name": "ipython",
    "version": 3
   },
   "file_extension": ".py",
   "mimetype": "text/x-python",
   "name": "python",
   "nbconvert_exporter": "python",
   "pygments_lexer": "ipython3",
   "version": "3.10.6"
  }
 },
 "nbformat": 4,
 "nbformat_minor": 5
}

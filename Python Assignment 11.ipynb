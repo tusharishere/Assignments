{
 "cells": [
  {
   "cell_type": "code",
   "execution_count": null,
   "id": "17694898-c1b2-4244-b967-0008f9f89e7e",
   "metadata": {},
   "outputs": [],
   "source": [
    "1. What is the role of the 'else' block in a try-except statement? Provide an example\n",
    "scenario where it would be useful.\n",
    "\n",
    "ANSWER\n",
    "The else block in a try-except statement is optional and provides a way to specify code \n",
    "that should be executed only if no exception occurs in the corresponding try block. \n",
    "The else block is executed after the try block has completed successfully, without raising any exceptions.\n",
    "\n",
    "EXAMPLE-"
   ]
  },
  {
   "cell_type": "code",
   "execution_count": 1,
   "id": "d73ca32b-0548-40b4-bc16-540be18430a2",
   "metadata": {},
   "outputs": [
    {
     "name": "stdin",
     "output_type": "stream",
     "text": [
      "Enter the first number:  3\n",
      "Enter the second number:  4\n"
     ]
    },
    {
     "name": "stdout",
     "output_type": "stream",
     "text": [
      "The division was successful.\n",
      "Result: 0.75\n"
     ]
    }
   ],
   "source": [
    "try:\n",
    "    num1 = int(input(\"Enter the first number: \"))\n",
    "    num2 = int(input(\"Enter the second number: \"))\n",
    "    result = num1 / num2\n",
    "except ValueError:\n",
    "    print(\"Invalid input. Please enter valid integers.\")\n",
    "except ZeroDivisionError:\n",
    "    print(\"Error: Cannot divide by zero.\")\n",
    "else:\n",
    "    print(\"The division was successful.\")\n",
    "    print(\"Result:\", result)\n"
   ]
  },
  {
   "cell_type": "code",
   "execution_count": null,
   "id": "26d13fb4-a29f-4363-9084-0a188717d33b",
   "metadata": {},
   "outputs": [],
   "source": [
    "2. Can a try-except block be nested inside another try-except block? Explain with an\n",
    "   example.\n",
    "    \n",
    "ANSWER\n",
    "Yes, a try-except block can be nested inside another try-except block. \n",
    "This is known as nested exception handling. It allows for handling exceptions \n",
    "at different levels of code execution, providing more granular and specific error handling."
   ]
  },
  {
   "cell_type": "code",
   "execution_count": 2,
   "id": "27d0487a-84c7-496c-9095-cf58dfa3cfe6",
   "metadata": {},
   "outputs": [
    {
     "name": "stdin",
     "output_type": "stream",
     "text": [
      "Enter the first number:  6\n",
      "Enter the second number:  0\n"
     ]
    },
    {
     "name": "stdout",
     "output_type": "stream",
     "text": [
      "Error: Cannot divide by zero.\n"
     ]
    }
   ],
   "source": [
    "try:\n",
    "    # Outer try block\n",
    "    num1 = int(input(\"Enter the first number: \"))\n",
    "    num2 = int(input(\"Enter the second number: \"))\n",
    "\n",
    "    try:\n",
    "        # Inner try block\n",
    "        result = num1 / num2\n",
    "        print(\"Result:\", result)\n",
    "    except ZeroDivisionError:\n",
    "        print(\"Error: Cannot divide by zero.\")\n",
    "\n",
    "except ValueError:\n",
    "    print(\"Error: Invalid input. Please enter valid integers.\")\n"
   ]
  },
  {
   "cell_type": "code",
   "execution_count": null,
   "id": "91ad1ae9-d4c3-491c-bea2-3e6723d9bd53",
   "metadata": {},
   "outputs": [],
   "source": [
    "3. How can you create a custom exception class in Python? Provide an example that\n",
    "   demonstrates its usage.\n",
    "    \n",
    "   ANSWER\n",
    "   In Python, you can create a custom exception class by defining a new class that inherits from \n",
    "   the built-in Exception class or any of its subclasses. By creating a custom exception class, \n",
    "   we can define your own exception types that can be raised and caught like any other exception."
   ]
  },
  {
   "cell_type": "code",
   "execution_count": 3,
   "id": "6bda1594-7a42-4885-942e-14d9a1fd7f39",
   "metadata": {},
   "outputs": [
    {
     "name": "stdin",
     "output_type": "stream",
     "text": [
      "Enter the first number:  2\n",
      "Enter the second number:  145.5\n"
     ]
    },
    {
     "name": "stdout",
     "output_type": "stream",
     "text": [
      "An error occurred: invalid literal for int() with base 10: '145.5'\n"
     ]
    }
   ],
   "source": [
    "class CustomError(Exception):\n",
    "    pass\n",
    "\n",
    "\n",
    "def divide_numbers(num1, num2):\n",
    "    if num2 == 0:\n",
    "        raise CustomError(\"Cannot divide by zero\")\n",
    "    return num1 / num2\n",
    "\n",
    "\n",
    "try:\n",
    "    num1 = int(input(\"Enter the first number: \"))\n",
    "    num2 = int(input(\"Enter the second number: \"))\n",
    "    result = divide_numbers(num1, num2)\n",
    "    print(\"Result:\", result)\n",
    "except CustomError as ce:\n",
    "    print(\"CustomError occurred:\", str(ce))\n",
    "except Exception as e:\n",
    "    print(\"An error occurred:\", str(e))\n"
   ]
  },
  {
   "cell_type": "code",
   "execution_count": null,
   "id": "9ba6dacf-63f1-42ce-a39a-1cf8b0df582d",
   "metadata": {},
   "outputs": [],
   "source": [
    "4. What are some common exceptions that are built-in to Python?\n",
    "\n",
    "ANSWER\n",
    "\n",
    "Python provides a variety of built-in exceptions that cover common types of \n",
    "errors and exceptional situations. Here are some commonly used built-in exceptions in Python:\n",
    "\n",
    "1.TypeError: Raised when an operation or function is performed on an object of an inappropriate type.\n",
    "\n",
    "2.ValueError: Raised when a function receives an argument of the correct type but an inappropriate value.\n",
    "\n",
    "3.NameError: Raised when a local or global name is not found.\n",
    "\n",
    "4.IndexError: Raised when a sequence (such as a list, tuple, or string) is accessed with an invalid index.\n",
    "\n",
    "5.KeyError: Raised when a dictionary is accessed with a non-existent key.\n",
    "\n",
    "6.FileNotFoundError: Raised when a file or directory is not found.\n",
    "\n",
    "7.IOError: Raised when an input/output operation fails.\n",
    "\n",
    "8.ZeroDivisionError: Raised when division or modulo operation is performed with a divisor of zero.\n",
    "\n",
    "9.AttributeError: Raised when an attribute reference or assignment fails.\n",
    "\n",
    "10.SyntaxError: Raised when there is a syntax error in the code.\n",
    "\n",
    "11.OverflowError: Raised when the result of an arithmetic operation is too large to be represented.\n",
    "\n",
    "12.ImportError: Raised when an import statement fails to find and load a module."
   ]
  },
  {
   "cell_type": "code",
   "execution_count": null,
   "id": "5fbd7122-cbaf-4d1b-aa3d-cdaf62df8a72",
   "metadata": {},
   "outputs": [],
   "source": [
    "5. What is logging in Python, and why is it important in software development?\n",
    "\n",
    "ANSWER\n",
    "\n",
    "Logging in Python refers to the process of recording log messages during the execution of a program. \n",
    "It involves capturing relevant information about the program's execution, such as informative messages, \n",
    "warnings, errors, and other diagnostic details. The logging module in Python provides a powerful and \n",
    "flexible framework for implementing logging functionality in applications.\n",
    "\n",
    "Logging is crucial insoftware development as it enables effective debugging, troubleshooting, monitoring, \n",
    "maintenance, auditing, analytics, and historical reference. It helps developers and system administrators \n",
    "in understanding and managing the behavior of software applications, ensuring their stability, and \n",
    "improving overall quality and performance."
   ]
  },
  {
   "cell_type": "code",
   "execution_count": null,
   "id": "cd7e4d32-0db3-424b-880b-b95150db9971",
   "metadata": {},
   "outputs": [],
   "source": [
    "6. Explain the purpose of log levels in Python logging and provide examples of when\n",
    "   each log level would be appropriate.\n",
    "    \n",
    "    ANSWER\n",
    "    \n",
    "    Log levels in Python logging allow developers to categorize and prioritize log messages based on \n",
    "    their importance or severity. Each log message is associated with a specific log level, indicating \n",
    "    its significance in terms of the application's execution. Python's logging module provides several \n",
    "    built-in log levels, each serving a specific purpose. Here are some common log levels and their \n",
    "    appropriate usage\n",
    "    \n",
    "    DEBUG: The DEBUG level is used for detailed debugging information.\n",
    "    \n",
    "    INFO: The INFO level is used to convey general information about the program's execution. \n",
    "    \n",
    "    WARNING: The WARNING level is used to indicate potential issues or conditions that may cause \n",
    "             problems in the future. \n",
    "        \n",
    "    ERROR: The ERROR level is used to report errors or exceptional situations that affect the normal \n",
    "            execution of the program.    \n",
    "    \n",
    "    CRITICAL: The CRITICAL level is used to log critical errors or exceptional situations that are \n",
    "              severe and may lead to the termination of the program."
   ]
  },
  {
   "cell_type": "code",
   "execution_count": null,
   "id": "d18b60a9-7eb5-43a3-b8d5-5829996f9b6b",
   "metadata": {},
   "outputs": [],
   "source": [
    "7. What are log formatters in Python logging, and how can you customise the log\n",
    "   message format using formatters?\n",
    "\n",
    "    ANSWER\n",
    "    \n",
    "    Log formatters in Python logging are responsible for specifying the format of log messages \n",
    "    generated by the logging module. They define how the log records should be formatted before \n",
    "    being outputted to various destinations such as the console, files, or external logging services.\n",
    "    \n",
    "    The logging module provides a Formatter class that allows customization of the log message format. \n",
    "    By creating an instance of the Formatter class and configuring it with the desired format string, \n",
    "    developers can define their own log message format."
   ]
  },
  {
   "cell_type": "code",
   "execution_count": null,
   "id": "4c801a4a-834a-4679-ab6d-47b06fc81cf0",
   "metadata": {},
   "outputs": [],
   "source": [
    "8. How can you set up logging to capture log messages from multiple modules or\n",
    "   classes in a Python application?\n",
    "    \n",
    "    ANSWER\n",
    "    \n",
    "    To capture log messages from multiple modules or classes in a Python application, \n",
    "    you can set up logging with a common logger that is accessible by all modules and classes. "
   ]
  },
  {
   "cell_type": "code",
   "execution_count": 5,
   "id": "a4a14189-433a-40fa-b879-5942d6d5e88b",
   "metadata": {},
   "outputs": [],
   "source": [
    "#Create a logger in a central module or at the application's entry point:\n",
    "import logging\n",
    "\n",
    "# Create a logger\n",
    "logger = logging.getLogger(\"my_logger\")\n",
    "logger.setLevel(logging.DEBUG)\n",
    "\n",
    "# Create a handler and set its level\n",
    "handler = logging.StreamHandler()\n",
    "handler.setLevel(logging.DEBUG)\n",
    "\n",
    "# Create a formatter and set it for the handler\n",
    "formatter = logging.Formatter(\"%(asctime)s - %(name)s - %(levelname)s - %(message)s\")\n",
    "handler.setFormatter(formatter)\n",
    "\n",
    "# Add the handler to the logger\n",
    "logger.addHandler(handler)"
   ]
  },
  {
   "cell_type": "code",
   "execution_count": null,
   "id": "a4aca7b8-9398-475e-9de4-8c349e5287c2",
   "metadata": {},
   "outputs": [],
   "source": [
    "9. What is the difference between the logging and print statements in Python? When\n",
    "   should you use logging over print statements in a real-world application?\n",
    "    \n",
    "    ANSWER\n",
    "    \n",
    "    while print statements are useful for quick debugging during development, \n",
    "    Logging offers more advanced features, configurability, and scalability for managing log \n",
    "    messages in real-world applications. It provides a standardized and controlled approach to \n",
    "    capturing and analyzing log data, making it a preferred choice for production environments \n",
    "    and long-term application maintenance."
   ]
  },
  {
   "cell_type": "code",
   "execution_count": null,
   "id": "f750df9d-78e6-4eec-a2bd-8fbeb7ab40ba",
   "metadata": {},
   "outputs": [],
   "source": [
    "10. Write a Python program that logs a message to a file named \"app.log\" with the\n",
    "following requirements:\n",
    "● The log message should be \"Hello, World!\"\n",
    "● The log level should be set to \"INFO.\"\n",
    "● The log file should append new log entries without overwriting previous ones.\n",
    "\n",
    "ANSWER"
   ]
  },
  {
   "cell_type": "code",
   "execution_count": 7,
   "id": "4ab464f1-8704-43c5-9177-abdb8f686bdd",
   "metadata": {},
   "outputs": [],
   "source": [
    "import logging\n",
    "\n",
    "# Configure logging\n",
    "logging.basicConfig(\n",
    "    level=logging.INFO,\n",
    "    filename=\"app.log\",\n",
    "    filemode=\"a\",\n",
    "    format=\"%(asctime)s - %(levelname)s - %(message)s\"\n",
    ")\n",
    "\n",
    "# Log the message\n",
    "logging.info(\"Hello, World!\")\n"
   ]
  },
  {
   "cell_type": "code",
   "execution_count": null,
   "id": "042c84ee-c0f1-4807-ba67-c2c874fe918d",
   "metadata": {},
   "outputs": [],
   "source": [
    "11. Create a Python program that logs an error message to the console and a file named\n",
    "    \"errors.log\" if an exception occurs during the program's execution. The error\n",
    "    message should include the exception type and a timestamp.\n",
    "\n",
    "    ANSWER\n",
    "    \n",
    "    To log an error message to the console and a file named \"errors.log\" when an \n",
    "    exception occurs during program execution, you can use the logging module in Python. "
   ]
  },
  {
   "cell_type": "code",
   "execution_count": null,
   "id": "e40a47e3-41be-4128-ad6d-2166861aba69",
   "metadata": {},
   "outputs": [],
   "source": [
    "import logging\n",
    "import datetime\n",
    "\n",
    "# Configure logging\n",
    "logging.basicConfig(\n",
    "    level=logging.ERROR,\n",
    "    format=\"%(asctime)s - %(levelname)s - %(message)s\"\n",
    ")\n",
    "\n",
    "# Create a file handler\n",
    "file_handler = logging.FileHandler(\"errors.log\")\n",
    "file_handler.setLevel(logging.ERROR)\n",
    "\n",
    "# Create a formatter for the file handler\n",
    "formatter = logging.Formatter(\"%(asctime)s - %(levelname)s - %(message)s\")\n",
    "file_handler.setFormatter(formatter)\n",
    "\n",
    "# Add the file handler to the logger\n",
    "logger = logging.getLogger()\n",
    "logger.addHandler(file_handler)\n",
    "\n",
    "try:\n",
    "    # Your code that may raise an exception\n",
    "    # ...\n",
    "    # Simulating an exception\n",
    "    raise ValueError(\"Example exception\")\n",
    "\n",
    "except Exception as e:\n",
    "    # Log the exception\n",
    "    timestamp = datetime.datetime.now().strftime(\"%Y-%m-%d %H:%M:%S\")\n",
    "    error_message = f\"{timestamp} - Exception: {type(e).__name__} - {str(e)}\"\n",
    "    logging.error(error_message)\n"
   ]
  }
 ],
 "metadata": {
  "kernelspec": {
   "display_name": "Python 3 (ipykernel)",
   "language": "python",
   "name": "python3"
  },
  "language_info": {
   "codemirror_mode": {
    "name": "ipython",
    "version": 3
   },
   "file_extension": ".py",
   "mimetype": "text/x-python",
   "name": "python",
   "nbconvert_exporter": "python",
   "pygments_lexer": "ipython3",
   "version": "3.10.6"
  }
 },
 "nbformat": 4,
 "nbformat_minor": 5
}

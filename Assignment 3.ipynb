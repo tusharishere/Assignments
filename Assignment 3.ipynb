{
 "cells": [
  {
   "cell_type": "code",
   "execution_count": null,
   "id": "de9acca1-2503-464e-a440-495a21456547",
   "metadata": {},
   "outputs": [],
   "source": [
    "1. Why are functions advantageous to have in your programs?\n",
    "\n",
    "    ANSWER\n",
    "    Functions are advantageous to have in programs because \n",
    "    they allow for code reusability,which leads to cleaner, \n",
    "    more organized, and easier-to-maintain code."
   ]
  },
  {
   "cell_type": "code",
   "execution_count": null,
   "id": "0c73f80d-f4f2-428f-9d03-c76420256dd9",
   "metadata": {},
   "outputs": [],
   "source": [
    "2. When does the code in a function run: when its specified or when its called?\n",
    "\n",
    "    ANSWER\n",
    "    The code in a function runs when the function is called, not when it is specified.\n",
    "    The function acts as a reusable block of code that can be executed multiple times \n",
    "    at different points in the program by calling its name.\n",
    "\n",
    "example- def fname():#function specified\n",
    "         fname()#function called"
   ]
  },
  {
   "cell_type": "code",
   "execution_count": null,
   "id": "9c8f67bc-920c-494a-91aa-0d370d233b48",
   "metadata": {},
   "outputs": [],
   "source": [
    "3. What statement creates a function?\n",
    "\n",
    "    ANSWER\n",
    "    The def statement is used to create a function "
   ]
  },
  {
   "cell_type": "code",
   "execution_count": null,
   "id": "db3cf4ca-7ceb-42cf-a16c-8ef16f4d9ef9",
   "metadata": {},
   "outputs": [],
   "source": [
    "4. What is the difference between a function and a function call?\n",
    "\n",
    "    ANSWER\n",
    "    A function is a block of reusable code that performs a specific task. \n",
    "    It is defined using the def statement and contains the instructions to be executed.\n",
    "    The function call triggers the execution of the code within the function."
   ]
  },
  {
   "cell_type": "code",
   "execution_count": null,
   "id": "ee20716a-c0aa-493e-aa8d-5aa6c6229722",
   "metadata": {},
   "outputs": [],
   "source": [
    "5. How many global scopes are there in a Python program? How many local scopes?\n",
    "\n",
    "    ANSWER\n",
    "    There is one global scope, which is the outermost scope that covers the entire program.\n",
    "    It provides access to global variables throughout the program.The number of local scopes \n",
    "    in a Python program depends on the number of function and block definitions. \n",
    "    function or block creates its own local scope.\n",
    "\n",
    "example- global_variable = \"I'm a global variable\"\n",
    "\n",
    "        def example_function():\n",
    "        local_variable = \"I'm a local variable\"\n",
    "        print(local_variable)\n",
    "\n",
    "        print(global_variable)  # Accessing the global variable\n",
    "        example_function()      # Calling the function\n",
    "        print(local_variable)   # This line will raise an error"
   ]
  },
  {
   "cell_type": "code",
   "execution_count": null,
   "id": "6ae4b0c1-0139-46c8-ac6a-10c7b2a52631",
   "metadata": {},
   "outputs": [],
   "source": [
    "6. What happens to variables in a local scope when the function call returns?\n",
    "\n",
    "    ANSWER\n",
    "    When a function call returns in Python, the local variables within that function's scope \n",
    "    are destroyed and their values are no longer accessible. The local scope is cleared, and\n",
    "    the variables defined within it are freed from memory. Any attempt to access those local \n",
    "    variables outside the function scope will result in an error.\n",
    "\n",
    "example- def example_function():\n",
    "                local_variable = \"Hello, World!\"\n",
    "                print(local_variable)\n",
    "\n",
    "        example_function()\n",
    "        print(local_variable)  # This line will raise an error"
   ]
  },
  {
   "cell_type": "code",
   "execution_count": null,
   "id": "7426e150-be26-42c4-99de-e083f374f311",
   "metadata": {},
   "outputs": [],
   "source": [
    "7. What is the concept of a return value? Is it possible to have a return value in an expression? \n",
    "\n",
    "    ANSWER\n",
    "    The concept of a return value in refers to the \n",
    "    value that a function can provide as output when it is called.\n",
    "    When a function is executed, it can perform computations and \n",
    "    produce a result that can be returned to the caller.\n",
    "\n",
    "    Yes, it is possible to have a return value in an expression. \n"
   ]
  },
  {
   "cell_type": "code",
   "execution_count": null,
   "id": "9ddc2eb9-f61d-488e-aaff-e8fc251b6f0e",
   "metadata": {},
   "outputs": [],
   "source": [
    "8. If a function does not have a return statement, what is the return value of a call to that function?\n",
    "\n",
    "    ANSWER\n",
    "    None"
   ]
  },
  {
   "cell_type": "code",
   "execution_count": null,
   "id": "d0828f51-e3c5-406c-a6ac-580861116867",
   "metadata": {},
   "outputs": [],
   "source": [
    "9. How do you make a function variable refer to the global variable\n",
    "\n",
    "    ANSWER\n",
    "    To make a function variable refer to the global variable, \n",
    "    you can use the global keyword within the function to indicate\n",
    "    that the variable is a global variable. This allows you to \n",
    "    access and modify the global variable within the function."
   ]
  },
  {
   "cell_type": "code",
   "execution_count": null,
   "id": "a697583e-bc7a-47be-8407-158c35359be2",
   "metadata": {},
   "outputs": [],
   "source": [
    "10. What is the data type of None?\n",
    "    \n",
    "    ANSWER\n",
    "    NoneType"
   ]
  },
  {
   "cell_type": "code",
   "execution_count": null,
   "id": "ad979121-6b3e-41fb-a858-37b539652650",
   "metadata": {},
   "outputs": [],
   "source": [
    "11. What does the sentence import are allyourpetsnamederic do?\n",
    "    \n",
    "    ANSWER\n",
    "    The sentence import are allyourpetsnamederic is not a valid Python import statement.\n",
    "    The statement should typically follow the format import module_name"
   ]
  },
  {
   "cell_type": "code",
   "execution_count": null,
   "id": "80593dd9-c58e-4643-880e-bfe7424a366d",
   "metadata": {},
   "outputs": [],
   "source": [
    "12. If you had a bacon() feature in a spam module, what would you call it after importing spam?\n",
    "    \n",
    "    ANSWER\n",
    "    import spam\n",
    "\n",
    "    spam.bacon()"
   ]
  },
  {
   "cell_type": "code",
   "execution_count": null,
   "id": "82b86b92-8240-488a-8f30-77b16b9ec15f",
   "metadata": {},
   "outputs": [],
   "source": [
    "13. What can you do to save a programme from crashing if it encounters an error?\n",
    "    \n",
    "    ANSWER\n",
    "    To save a program from crashing if it encounters an error, \n",
    "    you can implement error handling using try-except blocks"
   ]
  },
  {
   "cell_type": "code",
   "execution_count": null,
   "id": "8d75db23-c556-42f9-bfc5-3873bb56307e",
   "metadata": {},
   "outputs": [],
   "source": [
    "14. What is the purpose of the try clause? What is the purpose of the except clause?\n",
    "    \n",
    "    ANSWER\n",
    "    The try clause is used to enclose the potentially error-prone code, \n",
    "    while the except clause is used to define the code that handles specific \n",
    "    exceptions that may arise during the execution of the try block."
   ]
  }
 ],
 "metadata": {
  "kernelspec": {
   "display_name": "Python 3 (ipykernel)",
   "language": "python",
   "name": "python3"
  },
  "language_info": {
   "codemirror_mode": {
    "name": "ipython",
    "version": 3
   },
   "file_extension": ".py",
   "mimetype": "text/x-python",
   "name": "python",
   "nbconvert_exporter": "python",
   "pygments_lexer": "ipython3",
   "version": "3.10.6"
  }
 },
 "nbformat": 4,
 "nbformat_minor": 5
}

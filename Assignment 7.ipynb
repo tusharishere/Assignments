{
 "cells": [
  {
   "cell_type": "code",
   "execution_count": null,
   "id": "1aecf7ef-8bde-40ea-8e73-a1a3f565c404",
   "metadata": {},
   "outputs": [],
   "source": [
    "Q.1. Create two int type variables, apply addition, subtraction, division and multiplications\n",
    "and store the results in variables. Then print the data in the following format by calling the\n",
    "variables:\n",
    "    \n",
    "First variable is __ & second variable is __.\n",
    "Addition: __ + __ = __\n",
    "Subtraction: __ - __ = __\n",
    "Multiplication: __ * __ = __\n",
    "Division: __ / __ = __\n",
    "\n",
    "ANSWER"
   ]
  },
  {
   "cell_type": "code",
   "execution_count": 2,
   "id": "a207052c-8377-4679-9c8f-b9b4bdb714fd",
   "metadata": {},
   "outputs": [
    {
     "name": "stdout",
     "output_type": "stream",
     "text": [
      "First variable is 60 & second variable is 30\n",
      "Addition: 60 + 30 = 90\n",
      "Subtraction: 60 - 30 = 30\n",
      "Multiplication: 60 * 30 = 1800\n",
      "Division: 60 / 30 = 2.0\n"
     ]
    }
   ],
   "source": [
    "# Create two int variables\n",
    "num1=60\n",
    "num2=30\n",
    "\n",
    "# Perform arithematic operations\n",
    "addition_result = num1 + num2\n",
    "subtraction_result = num1 - num2\n",
    "multiplication_result = num1 * num2\n",
    "division_result = num1 / num2\n",
    "\n",
    "# Print the data in the requested format\n",
    "print(\"First variable is\", num1, \"& second variable is\", num2)\n",
    "print(\"Addition:\", num1, \"+\", num2, \"=\", addition_result)\n",
    "print(\"Subtraction:\", num1, \"-\", num2, \"=\", subtraction_result)\n",
    "print(\"Multiplication:\", num1, \"*\", num2, \"=\", multiplication_result)\n",
    "print(\"Division:\", num1, \"/\", num2, \"=\", division_result)\n"
   ]
  },
  {
   "cell_type": "code",
   "execution_count": null,
   "id": "4a32e41b-e28e-463e-8395-35f1de84d7b9",
   "metadata": {},
   "outputs": [],
   "source": [
    "Q.2. What is the difference between the following operators:\n",
    "(i) ‘/’ & ‘//’\n",
    "(ii) ‘**’ & ‘^’\n",
    "\n",
    "ANSWER"
   ]
  },
  {
   "cell_type": "code",
   "execution_count": null,
   "id": "742919da-1dc2-45cf-993a-f609b6323987",
   "metadata": {},
   "outputs": [],
   "source": [
    "(i) The / operator is the division operator in Python, which performs floating-point division.\n",
    "    It returns the exact quotient of the division operation, including any fractional part. \n",
    "    For example, 10 / 3 would result in 3.3333333333333335.\n",
    "\n",
    "    On the other hand, the // operator is the floor division operator.\n",
    "    It performs division and rounds down the result to the nearest whole number. \n",
    "    It discards the fractional part of the division result. For example, 10 // 3 would result in 3.\n",
    "    \n",
    "(ii)The ** operator is the exponentiation operator in. \n",
    "    It raises the left operand to the power of the right operand. \n",
    "    For example, 2 ** 3 would result in 8, as it calculates 2 raised to the power of 3.\n",
    "        \n",
    "    The ^ operator is not the exponentiation operator in Python. \n",
    "    Instead, it is the bitwise XOR operator. It performs the XOR operation on the binary \n",
    "    representations of the operands."
   ]
  },
  {
   "cell_type": "code",
   "execution_count": null,
   "id": "d23e482e-9526-434f-94d2-75e2631d92b1",
   "metadata": {},
   "outputs": [],
   "source": [
    "Q.3. List the logical operators.\n",
    "\n",
    "ANSWER\n",
    "The logical operators in Python are:\n",
    "\n",
    "1) and: Returns True if both operands are True, otherwise returns False.\n",
    "2) or:  Returns True if at least one of the operands is True, otherwise returns False.\n",
    "3) not: Returns the opposite value of the operand. If the operand is True, it returns False, \n",
    "        and if the operand is False, it returns True."
   ]
  },
  {
   "cell_type": "code",
   "execution_count": null,
   "id": "96778d95-1083-4416-b979-cec47be7a10c",
   "metadata": {},
   "outputs": [],
   "source": [
    "Q.4. Explain right shift operator and left shift operator with examples.\n",
    "\n",
    "ANSWER\n",
    "The right shift (>>) and left shift (<<) operators are bitwise shift operators .\n",
    "They operate on the binary representation of the numbers and shift the bits to the right or left.\n",
    "\n",
    "1) Right Shift (>>): The right shift operator shifts the bits of a number to the right by a \n",
    "   specified number of positions.\n",
    "    \n",
    "2) Left Shift (<<): The left shift operator shifts the bits of a number to the left by a \n",
    "   specified number of positions. "
   ]
  },
  {
   "cell_type": "code",
   "execution_count": null,
   "id": "78ed0b78-85ca-4ec2-a31d-33f38ff8174b",
   "metadata": {},
   "outputs": [],
   "source": [
    "Q.5. Create a list containing int type data of length 15. Then write a code to check if 10 is\n",
    "present in the list or not.\n",
    "\n",
    "ANSWER"
   ]
  },
  {
   "cell_type": "code",
   "execution_count": null,
   "id": "44aa2c60-ac44-408a-b678-2156f6c55c3e",
   "metadata": {},
   "outputs": [],
   "source": [
    "Number=[1,2,3,4,5,6,7,8,9,10,11,12,13,14,15]\n",
    "for i in range(number):\n",
    "    if i==10:\n",
    "        print(\"The number 10 is present in th\")"
   ]
  },
  {
   "cell_type": "code",
   "execution_count": null,
   "id": "860611e7-cf1f-4766-b2b6-26c52641c1d3",
   "metadata": {},
   "outputs": [],
   "source": []
  },
  {
   "cell_type": "code",
   "execution_count": null,
   "id": "74d67afd-aec7-4d6a-b721-7e9d004a565f",
   "metadata": {},
   "outputs": [],
   "source": []
  }
 ],
 "metadata": {
  "kernelspec": {
   "display_name": "Python 3 (ipykernel)",
   "language": "python",
   "name": "python3"
  },
  "language_info": {
   "codemirror_mode": {
    "name": "ipython",
    "version": 3
   },
   "file_extension": ".py",
   "mimetype": "text/x-python",
   "name": "python",
   "nbconvert_exporter": "python",
   "pygments_lexer": "ipython3",
   "version": "3.10.6"
  }
 },
 "nbformat": 4,
 "nbformat_minor": 5
}

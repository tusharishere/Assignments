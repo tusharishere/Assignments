{
 "cells": [
  {
   "cell_type": "code",
   "execution_count": null,
   "id": "43d0ee97-8c3a-49b9-a2c5-bdd2772582c0",
   "metadata": {},
   "outputs": [],
   "source": [
    "Q.1. What are keywords in python? Using the keyword library, print all the python keywords.\n",
    "    \n",
    "    ANSWER\n",
    "    Keywords in Python are reserved words that have predefined meanings \n",
    "    and cannot be used as variable names or identifiers.They are part of the Python language syntax. \n",
    "    To print all the Python keywords, you can use the 'keyword' library and its 'kwlist' attribute:"
   ]
  },
  {
   "cell_type": "code",
   "execution_count": 1,
   "id": "dc5465dc-acad-4eb4-9fca-3deb9dd381a1",
   "metadata": {},
   "outputs": [
    {
     "name": "stdout",
     "output_type": "stream",
     "text": [
      "['False', 'None', 'True', 'and', 'as', 'assert', 'async', 'await', 'break', 'class', 'continue', 'def', 'del', 'elif', 'else', 'except', 'finally', 'for', 'from', 'global', 'if', 'import', 'in', 'is', 'lambda', 'nonlocal', 'not', 'or', 'pass', 'raise', 'return', 'try', 'while', 'with', 'yield']\n"
     ]
    }
   ],
   "source": [
    "import keyword\n",
    "print(keyword.kwlist)"
   ]
  },
  {
   "cell_type": "code",
   "execution_count": null,
   "id": "f3dd17cf-155b-42a2-8fe0-8ae1d708de54",
   "metadata": {},
   "outputs": [],
   "source": [
    "Q.2. What are the rules to create variables in python?\n",
    "\n",
    "    ANSWER\n",
    "    .Variable names can contain letters (a-z, A-Z), digits (0-9), and underscores (_). They cannot start with a digit.\n",
    "    .Variable names are case-sensitive, meaning myVariable and myvariable are different variables.\n",
    "    .Python keywords cannot be used as variable names.\n",
    "    .Variable names should be descriptive and meaningful, making it easier to understand the purpose of the variable.\n",
    "    .It is good practice to avoid using built-in function names as variable names to prevent conflicts.\n",
    "    .Variables should be defined before using them, either by assigning an initial value or through assignment statements."
   ]
  },
  {
   "cell_type": "code",
   "execution_count": null,
   "id": "7d0db3a4-3717-41af-a8ed-967a3172fd0e",
   "metadata": {},
   "outputs": [],
   "source": [
    "Q.3. What are the standards and conventions followed for the nomenclature of variables in\n",
    "python to improve code readability and maintainability?\n",
    "\n",
    "    ANSWER\n",
    "    1)Use descriptive names: Variable names should be meaningful and \n",
    "      describe the purpose or content of the variable. \n",
    "    2)Avoid single-letter names: It's generally better to use descriptive\n",
    "      names instead of single-letter names like 'x','z','y'.\n",
    "    3)Avoid reserved words: Do not use Python keywords or built-in function\n",
    "      names as variable names to prevent conflicts and confusion.\n"
   ]
  },
  {
   "cell_type": "code",
   "execution_count": null,
   "id": "9c4e6afb-31d2-45fa-9ee0-af685bb2dcc6",
   "metadata": {},
   "outputs": [],
   "source": [
    "Q.4. What will happen if a keyword is used as a variable name?\n",
    "\n",
    "    ANSWER\n",
    "\n",
    "    If a keyword is used as a variable name in Python, it will result in a syntax error.\n",
    "    Keywords are reserved words that have predefined meanings and purposes in the Python language. \n",
    "    They cannot be used as variable names or identifiers."
   ]
  },
  {
   "cell_type": "code",
   "execution_count": null,
   "id": "0c701f5e-6447-468f-8d09-20674f571caf",
   "metadata": {},
   "outputs": [],
   "source": [
    "Q.5. For what purpose def keyword is used?\n",
    "\n",
    "ANSWER\n",
    "The def keyword in Python is used to define a function."
   ]
  },
  {
   "cell_type": "code",
   "execution_count": null,
   "id": "593afd98-9f75-4e79-95ed-e1936ec49a16",
   "metadata": {},
   "outputs": [],
   "source": [
    "Q.6. What is the operation of this special character ‘\\’?\n",
    "\n",
    "ANSWER\n",
    "The special character '' in Python is called the escape character. \n",
    "It is used to represent special characters and escape sequences within string literals."
   ]
  },
  {
   "cell_type": "code",
   "execution_count": null,
   "id": "9f5fcd9c-6923-4e3c-8e58-6b5addc19f6a",
   "metadata": {},
   "outputs": [],
   "source": [
    "Q.7. Give an example of the following conditions:\n",
    "(i) Homogeneous list\n",
    "(ii) Heterogeneous set\n",
    "(iii) Homogeneous tuple\n",
    "\n",
    "ANSWER\n",
    "(i) Homogeneous list - numbers = [1, 2, 3, 4, 5]\n",
    "(ii) Heterogeneous set- my_set = {1, 'hello', 3.14, True}\n",
    "(iii) Homogeneous tuple- fruits = ('apple', 'banana', 'orange', 'kiwi')"
   ]
  },
  {
   "cell_type": "code",
   "execution_count": null,
   "id": "ddb2b615-ad85-4ead-83ab-12ab7648dfa1",
   "metadata": {},
   "outputs": [],
   "source": [
    "Q.8. Explain the mutable and immutable data types with proper explanation & examples.\n",
    "\n",
    "    ANSWER\n",
    "    Data types can be classified as either mutable or immutable \n",
    "    based on whether their values can be changed after they are created. \n",
    "    \n",
    "    Here's an explanation of mutable and immutable data types:\n",
    "\n",
    "    Mutable Data Types:\n",
    "    Mutable data types are those that can be modified or changed after they are created. \n",
    "    This means you can update, add, or remove elements or values from these data types without\n",
    "    creating a new object.\n",
    "    \n",
    "    Examples of mutable data types in Python include:\n",
    "\n",
    "    Lists: Lists are ordered, mutable sequences of elements.\n",
    "    Sets: Sets are unordered collections of unique elements.\n",
    "    Dictionaries: Dictionaries are key-value pairs where values can be modified using keys.\n",
    "\n",
    "    Here's an example of a mutable data type (list) being modified:"
   ]
  },
  {
   "cell_type": "code",
   "execution_count": 1,
   "id": "640b11db-146a-4f4f-805b-c560d80377bb",
   "metadata": {},
   "outputs": [
    {
     "name": "stdout",
     "output_type": "stream",
     "text": [
      "[10, 3, 4]\n"
     ]
    }
   ],
   "source": [
    "my_list = [1, 2, 3]\n",
    "my_list.append(4)  # Adding a new element\n",
    "my_list[1] = 10   # Modifying an existing element\n",
    "del my_list[0]    # Removing an element\n",
    "print(my_list)    # Output: [10, 3, 4]"
   ]
  },
  {
   "cell_type": "code",
   "execution_count": null,
   "id": "377c97d5-3868-402e-9ee4-906aabb92a0c",
   "metadata": {},
   "outputs": [],
   "source": [
    "    Immutable Data Types:\n",
    "    Immutable data types, as the name suggests, are those whose values \n",
    "    cannot be changed once they are created. If you need to update the value, \n",
    "    we need to create a new object with the updated value.\n",
    "    \n",
    "    Examples of immutable data types in Python include:\n",
    "\n",
    "    Tuples: Tuples are ordered, immutable collections of elements.\n",
    "    \n",
    "    Here's an example of an immutable data type (tuple)"
   ]
  },
  {
   "cell_type": "code",
   "execution_count": 2,
   "id": "e1bd848b-8552-4715-88ee-0db75150c341",
   "metadata": {},
   "outputs": [
    {
     "name": "stdout",
     "output_type": "stream",
     "text": [
      "(1, 2, 3, 4)\n"
     ]
    }
   ],
   "source": [
    "my_tuple = (1, 2, 3)\n",
    "new_tuple = my_tuple + (4,)   # Creating a new tuple with updated value\n",
    "print(new_tuple)              # Output: (1, 2, 3, 4)\n"
   ]
  },
  {
   "cell_type": "code",
   "execution_count": null,
   "id": "c6328769-9377-43c3-90fd-66e3bad9364c",
   "metadata": {},
   "outputs": [],
   "source": [
    "Q.9. Write a code to create the given structure using only for loop.\n",
    "\n",
    "*\n",
    "***\n",
    "*****\n",
    "*******\n",
    "*********\n",
    "\n",
    "ANSWER"
   ]
  },
  {
   "cell_type": "code",
   "execution_count": 1,
   "id": "1100ad78-2509-48f1-beab-2b91e98d8b10",
   "metadata": {},
   "outputs": [
    {
     "name": "stdout",
     "output_type": "stream",
     "text": [
      "*\n",
      "***\n",
      "*****\n",
      "*******\n",
      "*********\n"
     ]
    }
   ],
   "source": [
    "n = 5  # Number of rows in the structure\n",
    "\n",
    "for i in range(n):\n",
    "    for j in range(2*i+1):\n",
    "        print(\"*\", end=\"\")\n",
    "    print()\n"
   ]
  },
  {
   "cell_type": "code",
   "execution_count": null,
   "id": "0f35d0fe-2008-4a7f-9363-c54d52b144e0",
   "metadata": {},
   "outputs": [],
   "source": [
    "Q.10. Write a code to create the given structure using while loop.\n",
    "|||||||||\n",
    "|||||||\n",
    "|||||\n",
    "|||\n",
    "|\n",
    "\n",
    "ANSWER"
   ]
  },
  {
   "cell_type": "code",
   "execution_count": 2,
   "id": "c9e9de89-944c-4d20-95f6-36369bed733e",
   "metadata": {},
   "outputs": [
    {
     "name": "stdout",
     "output_type": "stream",
     "text": [
      "|||||\n",
      "||||\n",
      "|||\n",
      "||\n",
      "|\n"
     ]
    }
   ],
   "source": [
    "n = 5  # Number of rows in the structure\n",
    "i = n\n",
    "\n",
    "while i > 0:\n",
    "    j = i\n",
    "    while j > 0:\n",
    "        print(\"|\", end=\"\")\n",
    "        j -= 1\n",
    "    print()\n",
    "    i -= 1\n"
   ]
  },
  {
   "cell_type": "code",
   "execution_count": null,
   "id": "7b7adf6e-f1e0-4302-8379-221180001787",
   "metadata": {},
   "outputs": [],
   "source": []
  }
 ],
 "metadata": {
  "kernelspec": {
   "display_name": "Python 3 (ipykernel)",
   "language": "python",
   "name": "python3"
  },
  "language_info": {
   "codemirror_mode": {
    "name": "ipython",
    "version": 3
   },
   "file_extension": ".py",
   "mimetype": "text/x-python",
   "name": "python",
   "nbconvert_exporter": "python",
   "pygments_lexer": "ipython3",
   "version": "3.10.6"
  }
 },
 "nbformat": 4,
 "nbformat_minor": 5
}

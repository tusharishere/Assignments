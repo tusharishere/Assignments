{
 "cells": [
  {
   "cell_type": "code",
   "execution_count": null,
   "id": "a81cbd12-f077-4676-954a-3cf0caf163bf",
   "metadata": {},
   "outputs": [],
   "source": [
    "1.What are the two values of the Boolean data type? How do you write them?\n",
    "\n",
    "ANSWER\n",
    "The Boolean data type typically represents two values\n",
    "1)\"True\" and \n",
    "2)\"False.\n",
    "\n",
    "we can write this as\n",
    "a=True\n",
    "b=False"
   ]
  },
  {
   "cell_type": "code",
   "execution_count": null,
   "id": "8f311fe9-d60b-4b5e-9b90-2ea1aee82ad0",
   "metadata": {},
   "outputs": [],
   "source": [
    "2. What are the three different types of Boolean operators?\n",
    "\n",
    "ANSWER\n",
    "1) AND Operator:The logical AND operator is represented by the keyword and. \n",
    "   It returns True if both operands are true, and False otherwise.\n",
    "         example- a=True\n",
    "                  b=True\n",
    "                  print(a and b) #result will be True\n",
    "2) OR Operator: The logical OR operator is represented by the keyword or. \n",
    "   It returns True if at least one of the operands is true, and False if both operands are false.\n",
    "         exmple- a=True\n",
    "                 b=False\n",
    "                 print(a or b) #result will be True\n",
    "3) NOT Operator:The logical NOT operator is represented by the keyword not.\n",
    "   It returns True if the expression is false, and False if the expression is true.  \n",
    "         example- a=True\n",
    "                  print(not a)  #result will be False"
   ]
  },
  {
   "cell_type": "code",
   "execution_count": null,
   "id": "cee87cfc-a71a-4f69-ba79-f4a7a11e0874",
   "metadata": {},
   "outputs": [],
   "source": [
    "3. Make a list of each Boolean operator&#39;s truth tables (i.e. every possible combination of Boolean\n",
    "values for the operator and what it evaluate ).\n",
    "\n",
    "ANSWER\n",
    "1)Logical AND Operator (and):\n",
    "    operand1               operand2         Result\n",
    "    True                   True             True\n",
    "    True                   False            False\n",
    "    False                  False            False\n",
    "    False                  True             False\n",
    "2)Logical OR Operator (or):\n",
    "    operand1               operand2         Result\n",
    "    True                   True             True\n",
    "    True                   False            True\n",
    "    False                  False            True\n",
    "    False                  True             False \n",
    "3)Logical NOT Operator (not):\n",
    "    operand1               Result\n",
    "    True                   False\n",
    "    False                  True\n",
    "    \n",
    "    "
   ]
  },
  {
   "cell_type": "code",
   "execution_count": null,
   "id": "56823a90-253a-4103-84fd-183efbecea02",
   "metadata": {},
   "outputs": [],
   "source": [
    "4. What are the values of the following expressions?\n",
    "1)(5 &gt; 4) and (3 == 5)\n",
    "2)not (5 &gt; 4)\n",
    "3)(5 &gt; 4) or (3 == 5)\n",
    "4)not ((5 &gt; 4) or (3 == 5))\n",
    "5)(True and True) and (True == False)\n",
    "6)(not False) or (not True)\n",
    "\n",
    "Answer\n",
    "1)False\n",
    "2)False\n",
    "3)True\n",
    "4)False\n",
    "5)False\n",
    "6)True\n"
   ]
  },
  {
   "cell_type": "code",
   "execution_count": null,
   "id": "18b9f859-2922-4c2c-bf1a-5f1f8312bc39",
   "metadata": {},
   "outputs": [],
   "source": [
    "5. What are the six comparison operators?\n",
    "\n",
    "ANSWER\n",
    "1)Less than (<)\n",
    "2)Greater than (>)\n",
    "3)Less than or equal to (<=)\n",
    "4)Greater than or equal to (>=)\n",
    "5)Equal to (==)\n",
    "6)Not equal to (!=) "
   ]
  },
  {
   "cell_type": "code",
   "execution_count": null,
   "id": "010f09b6-a9a9-4dea-bddc-457ecde90bed",
   "metadata": {},
   "outputs": [],
   "source": [
    "6. How do you tell the difference between the equal to and assignment operators ? Describe a\n",
    "   condition and when you would use one.\n",
    "\n",
    "ANSWER\n",
    ".The equal to (==) operator uses double equal signs (==) to compare two values.\n",
    ".The assignment (=) operator uses a single equal sign (=) to assign a value to a variable.\n",
    "\n",
    "condition for equal to\n",
    "x = 5\n",
    "y = 7\n",
    "\n",
    "if x == y:\n",
    "    print(\"x is equal to y\")\n",
    "else:\n",
    "    print(\"x is not equal to y\") #we use the equal to (==) operator to compare the values of x and y. \n",
    "                                 #If they are equal, it prints \"x is equal to y\"; otherwise, it prints \"x is not equal to y\".\n",
    "                                \n",
    "    \n",
    "condition for assignment\n",
    "x = 5\n",
    "y = 7\n",
    "\n",
    "if x = y:\n",
    "    print(\"x is equal to y\")\n",
    "else:\n",
    "    print(\"x is not equal to y\") #The assignment operator is used specifically for assigning values to variables, not for comparison.\n"
   ]
  },
  {
   "cell_type": "code",
   "execution_count": null,
   "id": "99fc1263-a603-48c4-803c-5c228cf9e351",
   "metadata": {},
   "outputs": [],
   "source": [
    "7. Identify the three blocks in this code:\n",
    "spam = 0\n",
    "if spam == 10:\n",
    "print(&#39;eggs&#39;)\n",
    "if spam &gt; 5:\n",
    "print(&#39;bacon&#39;)\n",
    "else:\n",
    "print(&#39;ham&#39;)\n",
    "print(&#39;spam&#39;)\n",
    "print(&#39;spam&#39;)\n",
    "      \n",
    "ANSWER\n",
    "      Based on the indentation, we can identify the following blocks:\n",
    "1)Block 1\n",
    "      if spam == 10:\n",
    "         print('eggs')\n",
    "2)Block 2    \n",
    "      if spam > 5:\n",
    "         print('bacon')\n",
    "3)Block 3 \n",
    "      else:\n",
    "         print('ham')\n",
    "         print('spam')\n",
    "         print('spam')"
   ]
  },
  {
   "cell_type": "code",
   "execution_count": null,
   "id": "f26b8926-be4f-40f9-babd-5f13fb22f029",
   "metadata": {},
   "outputs": [],
   "source": [
    "8. Write code that prints Hello if 1 is stored in spam, prints Howdy if 2 is stored in spam, and prints\n",
    "Greetings! if anything else is stored in spam.\n",
    "\n",
    "ANSWER\n",
    "spam=3 # we can assign any to variable\n",
    "if spam ==1:\n",
    "    print(\"Hello\")\n",
    "elif spam ==2:\n",
    "    print(\"Howdy\")\n",
    "else:\n",
    "    print(\"Greetings\")"
   ]
  },
  {
   "cell_type": "code",
   "execution_count": null,
   "id": "7096e592-b2b5-4ba4-a117-965d40c5ad91",
   "metadata": {},
   "outputs": [],
   "source": [
    "9.If your programme is stuck in an endless loop, what keys you’ll press?\n",
    "\n",
    "ANSWER\n",
    "CTRL+C key will terminate the loop."
   ]
  },
  {
   "cell_type": "code",
   "execution_count": null,
   "id": "8f6eeaa0-5bf7-432a-8826-253d02eb2664",
   "metadata": {},
   "outputs": [],
   "source": [
    "10. How can you tell the difference between break and continue?\n",
    "\n",
    "ANSWER\n",
    "\"break\" is used to exit the loop entirely,\n",
    "while \"continue\" is used to skip the current iteration and move to the next iteration."
   ]
  },
  {
   "cell_type": "code",
   "execution_count": null,
   "id": "c2eb0f8e-08f0-4d64-94e5-683d6233651c",
   "metadata": {},
   "outputs": [],
   "source": [
    "11. In a for loop, what is the difference between range(10), range(0, 10), and range(0, 10, 1)?\n",
    "\n",
    "ANSWER\n",
    "1)range(10)\n",
    ".The resulting sequence will be: 0, 1, 2, 3, 4, 5, 6, 7, 8, 9.\n",
    "2)range(0,10)\n",
    ".The resulting sequence will be the same as in range(10): 0, 1, 2, 3, 4, 5, 6, 7, 8, 9.\n",
    "3)range(0,10,1)\n",
    ".The resulting sequence will also be the same as in the previous two forms: 0, 1, 2, 3, 4, 5, 6, 7, 8, 9\n",
    "\n",
    "here's the breakdown of range function- range(start,stop,step)"
   ]
  },
  {
   "cell_type": "raw",
   "id": "ce29ae57-eb9d-4ec4-ab34-d50434cb3919",
   "metadata": {},
   "source": [
    "12. Write a short program that prints the numbers 1 to 10 using a for loop. Then write an equivalent\n",
    "program that prints the numbers 1 to 10 using a while loop.\n",
    "\n",
    "ANSWER\n",
    "1)for i in range(1,11):\n",
    "    print(i)\n",
    "    \n",
    "2) a=1\n",
    "   while a<=10:\n",
    "     print(a)\n",
    "      a+=1"
   ]
  },
  {
   "cell_type": "code",
   "execution_count": null,
   "id": "51aa0373-05c3-497e-afff-b0aa08f18f04",
   "metadata": {},
   "outputs": [],
   "source": [
    "13. If you had a function named bacon() inside a module named spam, how would you call it after\n",
    "importing spam?\n",
    "\n",
    "ANSWER\n",
    "import spam\n",
    "\n",
    "spam.bacon()\n"
   ]
  }
 ],
 "metadata": {
  "kernelspec": {
   "display_name": "Python 3 (ipykernel)",
   "language": "python",
   "name": "python3"
  },
  "language_info": {
   "codemirror_mode": {
    "name": "ipython",
    "version": 3
   },
   "file_extension": ".py",
   "mimetype": "text/x-python",
   "name": "python",
   "nbconvert_exporter": "python",
   "pygments_lexer": "ipython3",
   "version": "3.10.6"
  }
 },
 "nbformat": 4,
 "nbformat_minor": 5
}

{
 "cells": [
  {
   "cell_type": "code",
   "execution_count": null,
   "id": "68d98f00-b41b-46d9-9d2a-e4e3d0bf8f98",
   "metadata": {},
   "outputs": [],
   "source": [
    "1. What exactly is [] ?\n",
    "\n",
    "    ANSWER\n",
    "    In Python, [] represents an empty list.\n",
    "    An empty list [] indicates that there are no elements or items present within the list."
   ]
  },
  {
   "cell_type": "code",
   "execution_count": null,
   "id": "138c367c-ab05-452a-b05d-5329cdc3336e",
   "metadata": {},
   "outputs": [],
   "source": [
    "2. In a list of values stored in a variable called spam, how would you assign the value 'hello' as the\n",
    "   third value? (Assume [2, 4, 6, 8, 10] are in spam.)\n",
    "\n",
    "    ANSWER\n",
    "    spam = [2, 4, 6, 8, 10]\n",
    "    spam[2] = 'hello'\n",
    "    print(spam)"
   ]
  },
  {
   "cell_type": "code",
   "execution_count": null,
   "id": "8f88574d-03d2-430c-a033-3499f49262cf",
   "metadata": {},
   "outputs": [],
   "source": [
    "3. What is the value of spam[int(int('3'*2)/11)]?\n",
    "\n",
    "   ANSWER\n",
    "   given-\n",
    "   spam=[a,b,c,d]\n",
    "\n",
    "Here's the breakdown of spam[int(int('3'*2)/11)]?\n",
    "    1)'3' * 2 is the string concatenation of '3' with itself, resulting in the string '33'.\n",
    "    2)int('33') converts the string '33' to an integer, resulting in the value 33.\n",
    "    3)33 / 11 performs integer division, resulting in the value 3.\n",
    "    4)int(3) converts the value 3 to an integer, resulting in the value 3.\n",
    "\n",
    "    Therefore, spam[int(int('3' * 2) / 11)] is equivalent to spam[3]\n",
    "    spam[3] refers to d of spam list"
   ]
  },
  {
   "cell_type": "code",
   "execution_count": null,
   "id": "7ac1b044-1164-4238-a781-0af9de1d94ea",
   "metadata": {},
   "outputs": [],
   "source": [
    "4. What is the value of spam[-1]?\n",
    "\n",
    "    ANSWER\n",
    "    given-\n",
    "    spam=[a,b,c,d]\n",
    "    negative indexing allows you to access elements from the end of a list.\n",
    "    spam = ['a', 'b', 'c', 'd']\n",
    "    last_element = spam[-1]\n",
    "    print(last_element)\n",
    "    #output would be [d]"
   ]
  },
  {
   "cell_type": "code",
   "execution_count": null,
   "id": "65a3fe74-8df1-4e33-9633-2845a4c054ec",
   "metadata": {},
   "outputs": [],
   "source": [
    "5. What is the value of spam[:2]?\n",
    "\n",
    "    ANSWER\n",
    "    given-\n",
    "    spam=[a,b,c,d]\n",
    "    The expression spam[:2] represents a slice of the list spam.\n",
    "    spam = ['a', 'b', 'c', 'd']\n",
    "    slice_result = spam[:2]\n",
    "    print(slice_result)\n",
    "    #output would be [a,b]"
   ]
  },
  {
   "cell_type": "code",
   "execution_count": null,
   "id": "184786cf-a024-4e85-b637-7dc3a94e03c9",
   "metadata": {},
   "outputs": [],
   "source": [
    "Let's pretend bacon has the list ['3.14','cat','11','cat','39',True] for the next three questions.\n",
    "6. What is the value of bacon.index('cat')?\n",
    "\n",
    "    ANSWER\n",
    "    bacon=['3.14','cat','11','cat','39',True] \n",
    "    value=bacon.index('cat')\n",
    "    print(value)\n",
    "    #output would be 1"
   ]
  },
  {
   "cell_type": "code",
   "execution_count": null,
   "id": "872f9a46-7f37-401e-8c55-e3f6347a25f8",
   "metadata": {},
   "outputs": [],
   "source": [
    "7. How does bacon.append(99) change the look of the list value in bacon?\n",
    "\n",
    "    ANSWER\n",
    "    bacon=['3.14','cat','11','cat','39',True] \n",
    "    bacon.append(99)\n",
    "    print(bacon)\n",
    "    #output would be ['3.14', 'cat', '11', 'cat', '39', True, 99]\n"
   ]
  },
  {
   "cell_type": "code",
   "execution_count": null,
   "id": "7ce5e341-86af-4d1b-97f2-2724339621d6",
   "metadata": {},
   "outputs": [],
   "source": [
    "8. How does bacon.remove('cat') change the look of the list in bacon?\n",
    "\n",
    "    ANSWER\n",
    "    bacon = [3.14, 'cat', 11, 'cat', True]\n",
    "    bacon.remove('cat')\n",
    "    print(bacon)\n",
    "    #output would be ['3.14', 'cat', '11','39', True, 99]"
   ]
  },
  {
   "cell_type": "code",
   "execution_count": null,
   "id": "9cd372ea-b0d0-4333-913c-013cdd364841",
   "metadata": {},
   "outputs": [],
   "source": [
    "9. What are the list concatenation and list replication operators?\n",
    "\n",
    "    ANSWER\n",
    "    The list concatenation operator in Python is the + operator. \n",
    "    It is used to combine two or more lists into a single list.\n",
    "    #example\n",
    "    list1 = [1, 2, 3]\n",
    "    list2 = [4, 5, 6]\n",
    "    concatenated_list = list1 + list2\n",
    "    print(concatenated_list)  # Output: [1, 2, 3, 4, 5, 6]\n",
    "\n",
    "    The list replication operator in Python is the * operator. \n",
    "    It is used to create a new list by repeating the elements \n",
    "    of an existing list a specified number of times.\n",
    "    list1 = [1, 2, 3]\n",
    "    replicated_list = list1 * 3\n",
    "    print(replicated_list)  # Output: [1, 2, 3, 1, 2, 3, 1, 2, 3]"
   ]
  },
  {
   "cell_type": "code",
   "execution_count": null,
   "id": "c8f039ec-60d9-48a4-a23e-32a38be96586",
   "metadata": {},
   "outputs": [],
   "source": [
    "10.What is difference between the list methods append() and insert()?\n",
    "\n",
    "    ANSWER\n",
    "    The main difference between the append() and insert() methods in Python is how they \n",
    "    add elements to a list:\n",
    "    .append() is a method used to add an element at the end of a list. \n",
    "    It modifies the original list by appending the element to the end.\n",
    "    #example\n",
    "    my_list = [1, 2, 3]\n",
    "    my_list.append(4)\n",
    "    print(my_list)  # Output: [1, 2, 3, 4]\n",
    "    .insert() is a method used to add an element at a specific index in a list. \n",
    "    It modifies the original list by inserting the element at the specified index, \n",
    "    shifting the existing elements to the right.\n",
    "    #example\n",
    "    my_list = [1, 2, 3]\n",
    "    my_list.insert(1, 4)\n",
    "    print(my_list)  # Output: [1, 4, 2, 3]\n",
    "\n"
   ]
  },
  {
   "cell_type": "code",
   "execution_count": null,
   "id": "154e1a87-dd2d-46d5-9d34-2c82284e659a",
   "metadata": {},
   "outputs": [],
   "source": [
    "11. What are the two methods for removing items from a list?\n",
    "\n",
    "    ANSWER\n",
    "    1)remove()\n",
    "    2)pop()"
   ]
  },
  {
   "cell_type": "code",
   "execution_count": null,
   "id": "26022c3e-0bc4-45f6-b6d5-5e1ce87f1a68",
   "metadata": {},
   "outputs": [],
   "source": [
    "12. Describe how list values and string values are identical.\n",
    "\n",
    "    ANSWER\n",
    "    List values and string values in Python are both sequences, means they can contain\n",
    "    multiple elements arranged in a specific order and support indexing, slicing, and iteration."
   ]
  },
  {
   "cell_type": "code",
   "execution_count": null,
   "id": "15970cd7-9358-4af9-b763-cd55b8615a49",
   "metadata": {},
   "outputs": [],
   "source": [
    "13. Whats the difference between tuples and lists?\n",
    "\n",
    "    ANSWER\n",
    "    Tuples are immutable and defined using parentheses() or commas, \n",
    "    while lists are mutable and defined using square bracket[]s. \n",
    "    Tuples are used for immutable collections, while lists are \n",
    "    used for mutable collections with more extensive functionality."
   ]
  },
  {
   "cell_type": "code",
   "execution_count": null,
   "id": "afb94d2f-4159-4214-b3ed-121bbd74f73c",
   "metadata": {},
   "outputs": [],
   "source": [
    "14. How do you type a tuple value that only contains the integer 42?\n",
    "\n",
    "    ANSWER\n",
    "    my_tuple = (42,)"
   ]
  },
  {
   "cell_type": "code",
   "execution_count": null,
   "id": "a8d00547-fa8e-411f-a337-e4844d384768",
   "metadata": {},
   "outputs": [],
   "source": [
    "15. How do you get a list values tuple form? How do you get a tuple values list form ?\n",
    "\n",
    "    ANSWER\n",
    "    Using the respective conversion functions tuple() and list(),\n",
    "    we can easily convert between list and tuple forms, depending on your specific needs.\n",
    "    #example\n",
    "    #list to tuple\n",
    "    my_list = [1, 2, 3, 4, 5]\n",
    "    my_tuple = tuple(my_list)\n",
    "    print(my_tuple)  # Output: (1, 2, 3, 4, 5)\n",
    "    #tuple to list\n",
    "    my_tuple = (1, 2, 3, 4, 5)\n",
    "    my_list = list(my_tuple)\n",
    "    print(my_list)  # Output: [1, 2, 3, 4, 5]"
   ]
  },
  {
   "cell_type": "code",
   "execution_count": null,
   "id": "b8a7e784-a52e-4efa-ac7f-68e6a40a93b6",
   "metadata": {},
   "outputs": [],
   "source": [
    "16. Variables that 'contain' list values are not necessarily lists themselves. Instead, what do they\n",
    "    contain?\n",
    "    \n",
    "    ANSWER\n",
    "    Variables that \"contain\" list values in Python are not actually storing the list itself, \n",
    "    ut rather a reference to the list object in memory. This means that the variable contains\n",
    "    a memory address pointing to the location where the list is stored."
   ]
  },
  {
   "cell_type": "code",
   "execution_count": null,
   "id": "cd97e18a-2318-4e3d-ac5d-8bdf3c68c1b5",
   "metadata": {},
   "outputs": [],
   "source": [
    "17. How do you distinguish between copy.copy() and copy.deepcopy()?\n",
    "\n",
    "    ANSWER\n",
    "    copy.copy() creates a shallow copy that references the same nested objects, \n",
    "    while copy.deepcopy() creates a deep copy with independent copies of all nested objects."
   ]
  },
  {
   "cell_type": "code",
   "execution_count": null,
   "id": "58b84f2f-7773-4bde-a51d-b7e4cd15e7f6",
   "metadata": {},
   "outputs": [],
   "source": []
  }
 ],
 "metadata": {
  "kernelspec": {
   "display_name": "Python 3 (ipykernel)",
   "language": "python",
   "name": "python3"
  },
  "language_info": {
   "codemirror_mode": {
    "name": "ipython",
    "version": 3
   },
   "file_extension": ".py",
   "mimetype": "text/x-python",
   "name": "python",
   "nbconvert_exporter": "python",
   "pygments_lexer": "ipython3",
   "version": "3.10.6"
  }
 },
 "nbformat": 4,
 "nbformat_minor": 5
}

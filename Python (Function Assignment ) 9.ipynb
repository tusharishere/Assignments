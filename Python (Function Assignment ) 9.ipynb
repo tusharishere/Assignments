{
 "cells": [
  {
   "cell_type": "code",
   "execution_count": null,
   "id": "297ba221-15e8-4303-b044-67fb9e700240",
   "metadata": {},
   "outputs": [],
   "source": [
    "1. What is a lambda function in Python, and how does it differ from a regular function?\n",
    "\n",
    "ANSWER\n",
    "A lambda function in Python is a small anonymous function that can be defined \n",
    "inline without a formal name. It is typically used for simple and concise operations. \n",
    "Unlike regular functions, lambda functions do not require the \"def\" keyword, a return statement, or a name.\n",
    "\n",
    "add = lambda x, y: x + y"
   ]
  },
  {
   "cell_type": "code",
   "execution_count": null,
   "id": "4c1de44d-756d-4d18-8900-2862219af693",
   "metadata": {},
   "outputs": [],
   "source": [
    "2. Can a lambda function in Python have multiple arguments? If yes, how can you define and use\n",
    "them?\n",
    "\n",
    "ANSWER\n",
    "Yes, a lambda function in Python can have multiple arguments. \n",
    "You can define and use multiple arguments in a lambda function by \n",
    "separating them with commas within the argument list.\n",
    "\n",
    "Example-\n",
    "multiply = lambda x, y: x * y"
   ]
  },
  {
   "cell_type": "code",
   "execution_count": null,
   "id": "441760e6-3d3e-4531-8500-40b77315eaf1",
   "metadata": {},
   "outputs": [],
   "source": [
    "3. How are lambda functions typically used in Python? Provide an example use case.\n",
    "\n",
    "ANSWER\n",
    "Lambda functions are typically used as arguments to higher-order functions like map(), filter(), \n",
    "or sorted(), where a function is required as an argument. They are also commonly used for simple \n",
    "and concise operations or in situations where a small, throwaway function is needed.\n",
    "\n",
    "Example use case: Sorting a list of tuples based on a specific element in each tuple using \n",
    "                  action as the key."
   ]
  },
  {
   "cell_type": "code",
   "execution_count": 1,
   "id": "99ce6b39-9637-41fd-84aa-e0bae4c7b81f",
   "metadata": {},
   "outputs": [
    {
     "name": "stdout",
     "output_type": "stream",
     "text": [
      "[('Sinha', 19), ('Raipur', 20), ('Tushar', 22)]\n"
     ]
    }
   ],
   "source": [
    "students = [(\"Tushar\", 22), (\"Sinha\", 19), (\"Raipur\", 20)]\n",
    "\n",
    "# Sort the list based on the second element in each tuple (age)\n",
    "sorted_students = sorted(students, key=lambda x: x[1])\n",
    "\n",
    "print(sorted_students)"
   ]
  },
  {
   "cell_type": "code",
   "execution_count": null,
   "id": "ccb1aff0-14fb-4b27-9b70-7d980a4f8ebe",
   "metadata": {},
   "outputs": [],
   "source": [
    "4. What are the advantages and limitations of lambda functions compared to regular functions in\n",
    "   Python?\n",
    "    \n",
    "   ANSWER\n",
    "   Lambda functions in Python have the following advantages and limitation compared to regular functions:\n",
    "        \n",
    "   Advantages of lambda functions:\n",
    "\n",
    "    1)Conciseness: Lambda functions allow you to define small, one-line functions without the need \n",
    "    for a full-fledged function definition. \n",
    "    \n",
    "    2)Anonymous: Lambda functions are anonymous, meaning they don't require a name. \n",
    "    This can be useful when you need a function for a short period of time and don't want to \n",
    "    define a separate named function.\n",
    "    \n",
    "    3)Immediate Use: Lambda functions can be created and used immediately without being assigned \n",
    "    to a variable. This makes them handy for one-time or single-use functions, especially as \n",
    "    arguments to other functions.\n",
    "    \n",
    "    Limitations of lambda functions:\n",
    "    \n",
    "    1)Single Expression: Lambda functions can only contain a single expression. \n",
    "    \n",
    "    2)No Statements: Lambda functions cannot contain statements like return, assert, or raise. \n",
    "\n",
    "    3)Limited Readability: While lambda functions can make code concise, they can also reduce readability, \n",
    "      especially when the expression becomes too complex or when multiple arguments are involved. Regular functions with descriptive names are often more readable and maintainable in such cases.\n",
    "    \n",
    "    4)Limited Functionality: Due to their simplicity, lambda functions are not suitable for more complex tasks that require multiple statements or extensive logic.\n",
    "      Regular functions with a more comprehensive structure are better suited for such scenarios."
   ]
  },
  {
   "cell_type": "code",
   "execution_count": null,
   "id": "e7f80df7-eff7-4d9a-ae9e-4e91b246eab2",
   "metadata": {},
   "outputs": [],
   "source": [
    "5. Are lambda functions in Python able to access variables defined outside of their own scope?\n",
    "   Explain with an example.\n",
    "    \n",
    "   ANSWER\n",
    "   Yes, lambda functions in Python can access variables defined outside of their own scope.\n",
    "   \n",
    "   EXAMPLE-"
   ]
  },
  {
   "cell_type": "code",
   "execution_count": 2,
   "id": "147d70b4-18b7-4e63-b4da-b71165969250",
   "metadata": {},
   "outputs": [
    {
     "name": "stdout",
     "output_type": "stream",
     "text": [
      "10\n",
      "15\n"
     ]
    }
   ],
   "source": [
    "def multiplier(n):\n",
    "    return lambda x: x * n\n",
    "\n",
    "double = multiplier(2)\n",
    "triple = multiplier(3)\n",
    "\n",
    "print(double(5))  \n",
    "print(triple(5))  "
   ]
  },
  {
   "cell_type": "code",
   "execution_count": null,
   "id": "13e193e9-2f0d-4b8a-bcc9-9168f9f85665",
   "metadata": {},
   "outputs": [],
   "source": [
    "6. Write a lambda function to calculate the square of a given number.\n",
    "\n",
    "ANSWER"
   ]
  },
  {
   "cell_type": "code",
   "execution_count": 3,
   "id": "a36daa9d-7952-4d95-8bd4-625cc63f1c77",
   "metadata": {},
   "outputs": [
    {
     "name": "stdout",
     "output_type": "stream",
     "text": [
      "25\n"
     ]
    }
   ],
   "source": [
    "square = lambda x: x ** 2\n",
    "print(square(5))"
   ]
  },
  {
   "cell_type": "code",
   "execution_count": null,
   "id": "3055798f-b6df-43c7-8803-0a7163cc76c5",
   "metadata": {},
   "outputs": [],
   "source": [
    "7. Create a lambda function to find the maximum value in a list of integers.\n",
    "\n",
    "ANSWER"
   ]
  },
  {
   "cell_type": "code",
   "execution_count": 4,
   "id": "05059b00-f909-4cc2-95b3-ccf0adae599a",
   "metadata": {},
   "outputs": [
    {
     "name": "stdout",
     "output_type": "stream",
     "text": [
      "10\n"
     ]
    }
   ],
   "source": [
    "find_max = lambda x: max(x)\n",
    "numbers = [5, 10, 2, 8, 3]\n",
    "result = find_max(numbers)\n",
    "print(result)  "
   ]
  },
  {
   "cell_type": "code",
   "execution_count": null,
   "id": "b6e868a5-13d8-46f7-8010-4a6c7a42f680",
   "metadata": {},
   "outputs": [],
   "source": [
    "8. Implement a lambda function to filter out all the even numbers from a list of integers.\n",
    "\n",
    "ANSWER"
   ]
  },
  {
   "cell_type": "code",
   "execution_count": 7,
   "id": "1feedce9-eceb-406c-ac5c-4325c1666a0b",
   "metadata": {},
   "outputs": [
    {
     "name": "stdout",
     "output_type": "stream",
     "text": [
      "[2, 4, 6, 8, 10]\n"
     ]
    }
   ],
   "source": [
    "even_numbers = list(filter(lambda x: x % 2 == 0, numbers))\n",
    "numbers = [1, 2, 3, 4, 5, 6, 7, 8, 9, 10]\n",
    "print(even_numbers)\n"
   ]
  },
  {
   "cell_type": "code",
   "execution_count": null,
   "id": "12cf2156-b0c9-4d1d-8428-cdafa7bea721",
   "metadata": {},
   "outputs": [],
   "source": [
    "9. Write a lambda function to sort a list of strings in ascending order based on the length of each\n",
    "   string.\n",
    "    \n",
    "   ANSWER"
   ]
  },
  {
   "cell_type": "code",
   "execution_count": 8,
   "id": "bee011ff-2e8a-4105-b709-6f9a4806f980",
   "metadata": {},
   "outputs": [
    {
     "name": "stdout",
     "output_type": "stream",
     "text": [
      "['date', 'apple', 'banana', 'cherry', 'Mangomango']\n"
     ]
    }
   ],
   "source": [
    "strings = [\"apple\", \"banana\", \"cherry\", \"date\", \"Mangomango\"]\n",
    "sorted_strings = sorted(strings, key=lambda x: len(x))\n",
    "print(sorted_strings)"
   ]
  },
  {
   "cell_type": "code",
   "execution_count": null,
   "id": "0dcf299d-aa2e-4352-afcd-990c8f093b3b",
   "metadata": {},
   "outputs": [],
   "source": [
    "10. Create a lambda function that takes two lists as input and returns a new list containing the\n",
    "    common elements between the two lists.\n",
    "\n",
    "   ANSWER"
   ]
  },
  {
   "cell_type": "code",
   "execution_count": 9,
   "id": "4d436179-0784-4b9f-ac4a-e1470bc5bd25",
   "metadata": {},
   "outputs": [
    {
     "name": "stdout",
     "output_type": "stream",
     "text": [
      "{'india', 'china'}\n"
     ]
    }
   ],
   "source": [
    "set1 = ['uk', 'us', 'germany', 'india', 'china']\n",
    "set2 = ['europe', 'india', 'china', 'hyderabad']\n",
    "\n",
    "set3 = set(filter(lambda x: x in set2, set1))\n",
    "print(set3)"
   ]
  },
  {
   "cell_type": "code",
   "execution_count": null,
   "id": "dd23ec09-4ae2-45d9-93b1-d0711b8b89e2",
   "metadata": {},
   "outputs": [],
   "source": [
    "11. Write a recursive function to calculate the factorial of a given positive integer.\n",
    "\n",
    "ANSWER"
   ]
  },
  {
   "cell_type": "code",
   "execution_count": 10,
   "id": "5257ad91-1db0-4aee-be45-f801abb350da",
   "metadata": {},
   "outputs": [
    {
     "name": "stdout",
     "output_type": "stream",
     "text": [
      "120\n"
     ]
    }
   ],
   "source": [
    "def factorial(n):\n",
    "    if n == 0:\n",
    "        return 1\n",
    "    else:\n",
    "        return n * factorial(n - 1)\n",
    "result = factorial(5)\n",
    "print(result)  "
   ]
  },
  {
   "cell_type": "code",
   "execution_count": null,
   "id": "9a80bb22-49c9-4e5e-a25a-2ae40c539ec7",
   "metadata": {},
   "outputs": [],
   "source": [
    "12. Implement a recursive function to compute the nth Fibonacci number.\n",
    "\n",
    "ANSWER"
   ]
  },
  {
   "cell_type": "code",
   "execution_count": 14,
   "id": "f95b0e91-4cdf-4406-8181-171750fe8718",
   "metadata": {},
   "outputs": [
    {
     "name": "stdin",
     "output_type": "stream",
     "text": [
      "Enter the value of n:  9\n"
     ]
    },
    {
     "name": "stdout",
     "output_type": "stream",
     "text": [
      "The 9th Fibonacci number is: 21\n"
     ]
    }
   ],
   "source": [
    "    def fibonacci(n):\n",
    "   \n",
    "     if n <= 0:\n",
    "        return None\n",
    "     elif n == 1:\n",
    "        return 0\n",
    "     elif n == 2:\n",
    "        return 1\n",
    "     else:\n",
    "        return fibonacci(n - 1) + fibonacci(n - 2)\n",
    "\n",
    "# Get user input for the value of n\n",
    "n = int(input(\"Enter the value of n: \"))\n",
    "\n",
    "# Compute the nth Fibonacci number\n",
    "result = fibonacci(n)\n",
    "print(f\"The {n}th Fibonacci number is: {result}\")\n"
   ]
  },
  {
   "cell_type": "code",
   "execution_count": null,
   "id": "44ef500a-3c3d-4e86-89c1-94038ba3ac9f",
   "metadata": {},
   "outputs": [],
   "source": [
    "13. Create a recursive function to find the sum of all the elements in a given list.\n",
    "\n",
    "ANSWER"
   ]
  },
  {
   "cell_type": "code",
   "execution_count": 15,
   "id": "61a5f933-a92a-4762-b766-1a4689d26279",
   "metadata": {},
   "outputs": [
    {
     "name": "stdout",
     "output_type": "stream",
     "text": [
      "15\n"
     ]
    }
   ],
   "source": [
    "def sum_list_elements(lst):\n",
    "    if len(lst) == 0:\n",
    "        return 0\n",
    "    else:\n",
    "        return lst[0] + sum_list_elements(lst[1:])\n",
    "numbers = [1, 2, 3, 4, 5]\n",
    "result = sum_list_elements(numbers)\n",
    "print(result)  "
   ]
  },
  {
   "cell_type": "code",
   "execution_count": null,
   "id": "c34d5896-9c1e-4678-ab3d-5a3795fed15b",
   "metadata": {},
   "outputs": [],
   "source": [
    "14. Write a recursive function to determine whether a given string is a palindrome.\n",
    "\n",
    "ANSWER"
   ]
  },
  {
   "cell_type": "code",
   "execution_count": 16,
   "id": "97a80507-c4cd-456e-8d2a-ee8bc0582fba",
   "metadata": {},
   "outputs": [
    {
     "name": "stdout",
     "output_type": "stream",
     "text": [
      "True\n"
     ]
    }
   ],
   "source": [
    "def palindrome(string):\n",
    "    if len(string) <= 1:\n",
    "        return True\n",
    "    elif string[0] != string[-1]:\n",
    "        return False\n",
    "    else:\n",
    "        return palindrome(string[1:-1])\n",
    "word = \"racecar\"\n",
    "result = palindrome(word)\n",
    "print(result)  "
   ]
  },
  {
   "cell_type": "code",
   "execution_count": null,
   "id": "874ff129-d7c6-4932-a99a-977b5d889dec",
   "metadata": {},
   "outputs": [],
   "source": []
  }
 ],
 "metadata": {
  "kernelspec": {
   "display_name": "Python 3 (ipykernel)",
   "language": "python",
   "name": "python3"
  },
  "language_info": {
   "codemirror_mode": {
    "name": "ipython",
    "version": 3
   },
   "file_extension": ".py",
   "mimetype": "text/x-python",
   "name": "python",
   "nbconvert_exporter": "python",
   "pygments_lexer": "ipython3",
   "version": "3.10.6"
  }
 },
 "nbformat": 4,
 "nbformat_minor": 5
}
